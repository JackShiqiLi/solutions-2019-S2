{
 "cells": [
  {
   "cell_type": "markdown",
   "metadata": {},
   "source": [
    "# Weekly assignment 8: Improving the discretized solution\n",
    "\n",
    "In this exercise you will explore several alternatives in implementing up the\n",
    "continuous choice solution for the cake eating problem."
   ]
  },
  {
   "cell_type": "markdown",
   "metadata": {},
   "source": [
    "## Task 1. Base solution and accuracy measure\n",
    "\n",
    "Copy the version of the cake eating code with continuous choices\n",
    "from the lecture and produce the convergence plots.\n",
    "\n",
    "Import the check_analytic() fucntion from cake_eating.py module and make sure it works\n",
    "as expected.  Assume the cake_eating.py module is in the same directory as this notebook."
   ]
  },
  {
   "cell_type": "code",
   "execution_count": null,
   "metadata": {
    "hide-output": false
   },
   "outputs": [],
   "source": [
    "# write your code here\n",
    "# come up with a test of your own"
   ]
  },
  {
   "cell_type": "code",
   "execution_count": null,
   "metadata": {
    "hide-output": false
   },
   "outputs": [],
   "source": [
    "import numpy as np\n",
    "import matplotlib.pyplot as plt\n",
    "from scipy import interpolate\n",
    "from scipy.optimize import minimize_scalar\n",
    "%matplotlib inline\n",
    "\n",
    "from cake_eating import check_analytic\n",
    "\n",
    "class cake_continuous():\n",
    "    '''Implementation of the cake eating problem with continuous choices.'''\n",
    "    def __init__(self,beta=.9, Wbar=10, ngrid=50, interpolation='linear',maxiter_bellman=100,tol_bellman=1e-8):\n",
    "        self.beta = beta    # Discount factor\n",
    "        self.Wbar = Wbar    # Upper bound on cake size\n",
    "        self.ngrid = ngrid  # Number of grid points for the size of cake\n",
    "        self.epsilon = np.finfo(float).eps # smallest positive float number\n",
    "        self.grid_state = np.linspace(self.epsilon,Wbar,ngrid) # grid for state space\n",
    "        self.interpolation = interpolation # interpolation type for Bellman equation\n",
    "        self.maxiter_bellman = maxiter_bellman # maximum iterations in Bellman solver\n",
    "        self.tol_bellman = tol_bellman # tolerance in Bellman solver\n",
    "    def bellman(self,V0):\n",
    "        #Bellman operator, V0 is one-dim vector of values on grid\n",
    "        def maximand(c,M,V0):\n",
    "            '''Maximand of the Bellman equation'''\n",
    "            # interpolation kind\n",
    "            if self.interpolation=='linear':\n",
    "                interfunc = interpolate.interp1d(self.grid_state,V0,kind='slinear',fill_value=\"extrapolate\")\n",
    "            elif self.interpolation=='quadratic':\n",
    "                interfunc = interpolate.interp1d(self.grid_state,V0,kind='quadratic',fill_value=\"extrapolate\")\n",
    "            elif self.interpolation=='cubic':\n",
    "                interfunc = interpolate.interp1d(self.grid_state,V0,kind='cubic',fill_value=\"extrapolate\")\n",
    "            elif self.interpolation=='polynomial':\n",
    "                p = np.polynomial.polynomial.polyfit(self.grid_state,V0,self.ngrid-1)\n",
    "                interfunc = lambda x: np.polynomial.polynomial.polyval(x,p)\n",
    "            else:\n",
    "                print('Unknown interpolation type')\n",
    "                return None\n",
    "            Vnext = interfunc(M-c) # next period value at the size of cake in the next period\n",
    "            V1 = np.log(c) + self.beta*Vnext\n",
    "            return -V1 # negative because of minimization\n",
    "        def findC(M,maximand=None,V0=None):\n",
    "            '''Solves for optimal consumption for given cake size M and value function VF'''\n",
    "            opt = {'maxiter':self.maxiter_bellman, 'xatol':self.tol_bellman}\n",
    "            res = minimize_scalar(maximand,args=(M,V0),method='Bounded',bounds=[self.epsilon,M],options=opt)\n",
    "            if res.success:\n",
    "                return res.x # if converged successfully\n",
    "            else:\n",
    "                return M/2 # return some visibly wrong value\n",
    "        # loop over states\n",
    "        c1=np.empty(self.ngrid,dtype='float')\n",
    "        for i in range(self.ngrid):\n",
    "            c1[i] = findC(self.grid_state[i],maximand,V0)\n",
    "        V1 = - maximand(c1,self.grid_state,V0) # don't forget the negation!\n",
    "        return V1, c1\n",
    "    def solve(self, maxiter=1000, tol=1e-4, callback=None):\n",
    "        '''Solves the model using successive approximations'''\n",
    "        V0=np.log(self.grid_state) # on first iteration assume consuming everything\n",
    "        for iter in range(maxiter):\n",
    "            V1,c1=self.bellman(V0)\n",
    "            if callback: callback(iter,self.grid_state,V1,c1) # callback for making plots\n",
    "            if np.all(abs(V1-V0) < tol):\n",
    "                break\n",
    "            V0=V1\n",
    "        else:  # when i went up to maxiter\n",
    "            print('No convergence: maximum number of iterations achieved!')\n",
    "        return V1,c1\n",
    "    def solve_plot(self, maxiter=1000, tol=1e-4):\n",
    "        '''Illustrate solution'''\n",
    "        fig1, (ax1,ax2) = plt.subplots(1,2,figsize=(14,8))\n",
    "        ax1.grid(b=True, which='both', color='0.65', linestyle='-')\n",
    "        ax2.grid(b=True, which='both', color='0.65', linestyle='-')\n",
    "        ax1.set_title('Value function convergence with VFI')\n",
    "        ax2.set_title('Policy function convergence with VFI')\n",
    "        ax1.set_xlabel('Cake size, W')\n",
    "        ax2.set_xlabel('Cake size, W')\n",
    "        ax1.set_ylabel('Value function')\n",
    "        ax2.set_ylabel('Policy function')\n",
    "        print('Iterations:',end=' ')\n",
    "        def callback(iter,grid,v,c):\n",
    "            print(iter,end=' ') # print iteration number\n",
    "            ax1.plot(grid[1:],v[1:],color='k',alpha=0.25)\n",
    "            ax2.plot(grid,c,color='k',alpha=0.25)\n",
    "        V,c = self.solve(maxiter=maxiter,tol=tol,callback=callback)\n",
    "        # add solutions\n",
    "        ax1.plot(self.grid_state[1:],V[1:],color='r',linewidth=2.5)\n",
    "        ax2.plot(self.grid_state,c,color='r',linewidth=2.5)\n",
    "        plt.show()\n",
    "        return V,c"
   ]
  },
  {
   "cell_type": "code",
   "execution_count": null,
   "metadata": {
    "hide-output": false
   },
   "outputs": [],
   "source": [
    "m = cake_continuous (beta=0.92,Wbar=10,ngrid=25,tol_bellman=1e-8)\n",
    "V,c = m.solve_plot()\n",
    "check_analytic(m,V=V,policy=c,title='Solution with continuous choices')"
   ]
  },
  {
   "cell_type": "markdown",
   "metadata": {},
   "source": [
    "## Task 2. Improving interpolation method\n",
    "\n",
    "We could utilize more advanced interpolation schemes for the value function itself.\n",
    "\n",
    "Replace linear interpolation of the value function with quadratic and cubic splines, and approximating\n",
    "polynomials.\n",
    "\n",
    "Compare the accuracy of the new two versions to the original solution and the solution\n",
    "with the improvement from task 3.\n",
    "\n",
    "What is the most accurate solution algorithm?"
   ]
  },
  {
   "cell_type": "code",
   "execution_count": null,
   "metadata": {
    "hide-output": false
   },
   "outputs": [],
   "source": [
    "# write your code here"
   ]
  },
  {
   "cell_type": "code",
   "execution_count": null,
   "metadata": {
    "hide-output": false
   },
   "outputs": [],
   "source": [
    "for knd in 'linear','quadratic','cubic','polynomial':\n",
    "    m.interpolation=knd\n",
    "    V,c = m.solve(callback=lambda *arg: print(arg[0],end=' '))\n",
    "    ac=check_analytic(m,V=V,policy=c)\n",
    "    print('Accuracy with '+knd+' interpolation is',ac)"
   ]
  },
  {
   "cell_type": "markdown",
   "metadata": {},
   "source": [
    "## Task 3. Convergence to true solution\n",
    "\n",
    "Make a plot of the accuracy measure as function of number of grid points in the state space\n",
    "for each of the four interpolation schemes.\n",
    "\n",
    "Comparing the results in tasks 2 and 3, what is the best way to improve the accuracy of the solution?"
   ]
  },
  {
   "cell_type": "code",
   "execution_count": null,
   "metadata": {
    "hide-output": false
   },
   "outputs": [],
   "source": [
    "# write your code here"
   ]
  },
  {
   "cell_type": "code",
   "execution_count": null,
   "metadata": {
    "hide-output": false
   },
   "outputs": [],
   "source": [
    "fig1, ax1 = plt.subplots(figsize=(14,8))\n",
    "ax1.set_xlabel('Number of grid points')\n",
    "ax1.set_ylabel('Accuracy')\n",
    "grids = np.arange(10,100,10,dtype='int')\n",
    "for knd in 'linear','quadratic','cubic','polynomial':\n",
    "    line = np.empty(grids.size)\n",
    "    for i in range(grids.size):\n",
    "        K = grids[i]\n",
    "        m = cake_continuous(beta=0.92,Wbar=10,ngrid=grids[i])\n",
    "        m.interpolation=knd\n",
    "        V,c = m.solve(callback=lambda *arg: print(arg[0],end=' '))\n",
    "        line[i]=check_analytic(m,V=V,policy=c,plot=False)\n",
    "        print('.',end='')\n",
    "    ax1.plot(grids,line,label=knd+' interpolation')\n",
    "    print('|',end='')\n",
    "ax1.legend()\n",
    "plt.show()"
   ]
  }
 ],
 "metadata": {
  "filename": "assignment8task1.rst",
  "kernelspec": {
   "display_name": "Python 3",
   "language": "python",
   "name": "python3"
  },
  "language_info": {
   "codemirror_mode": {
    "name": "ipython",
    "version": 3
   },
   "file_extension": ".py",
   "mimetype": "text/x-python",
   "name": "python",
   "nbconvert_exporter": "python",
   "pygments_lexer": "ipython3",
   "version": "3.7.4"
  },
  "title": "Weekly assignment 8: Improving the discretized solution"
 },
 "nbformat": 4,
 "nbformat_minor": 2
}
