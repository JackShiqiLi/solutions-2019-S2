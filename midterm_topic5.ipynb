{
 "cells": [
  {
   "cell_type": "markdown",
   "metadata": {},
   "source": [
    "# Midterm Assignment, topic 5: Product portfolio choice\n",
    "\n",
    "> The sequence of tasks below should be performed in order in this\n",
    "notebook. Feel free to add code and markdown cells, but do not change\n",
    "cells that contain the assignment tasks.\n",
    "If the task offers some degree of interpretation (so, don’t tell you what\n",
    "to do exactly), you are free to interpret it in the way you see fit\n",
    "best. But remember to explain why you make such and such choice in your answer.\n",
    "\n",
    "> The grade for the midterm assignment is based on both the code\n",
    "correctness and code style. The former relates to whether the code\n",
    "adequately represents the economic model under consideration, and the\n",
    "latter has to do with how well the code is modularized and organized,\n",
    "whether appropriate syntax is used, and whether the code is well\n",
    "documented. [PEP 8](https://www.python.org/dev/peps/pep-0008/)\n",
    "standard is a good reference for coding style, but will not reduce the\n",
    "grade."
   ]
  },
  {
   "cell_type": "markdown",
   "metadata": {},
   "source": [
    "## Product portfolio choice by a multi-product firm\n",
    "\n",
    "In this assignment you consider a theoretic model of product portfolio\n",
    "choice by a multi-product firm in a perfectly competitive market."
   ]
  },
  {
   "cell_type": "markdown",
   "metadata": {},
   "source": [
    "### Task 1. Design and implement a Python class to represent the model\n",
    "\n",
    "In implementing your class follow these steps:\n",
    "\n",
    "- the class should be initialized (*init*) with the number of products $ n $ and the\n",
    "  label for the current specification of the model  \n",
    "- create method *set_prices* which would take a list or a numpy array\n",
    "  with $ n $ elements to represent the market prices of the products (net of variable cost)  \n",
    "- create method *add_constraint* which would take a list or a numpy array\n",
    "  with $ n $ elements and a second argument *const* to represent a technological\n",
    "  constraint of the firm’s production process given by the linear inequality\n",
    "  $ \\sum_{i=1}^{n} a_i x_i \\le C $ (where $ a_i $ and $ C $ are coefficients\n",
    "  and the constant respectively).  \n",
    "- create method *remove_constraint* which would take a single index, and remove\n",
    "  the constraint with this index  \n",
    "- create method *nr_constraints* without arguments which would return the current\n",
    "  number of constraints in the model (you can use magic command *@property* to be able\n",
    "  to treat the output of the method as class property)  \n",
    "- finally, create the standard methods for sting representation (*repr*) that\n",
    "  would list all the attributes of the model in a nice human readable way  \n",
    "\n",
    "\n",
    "All calls to the constraints created by *add_constraint()* should accumulate within the\n",
    "object, and can only be deleted by calling *remove_constraint()* with an appropriate index."
   ]
  },
  {
   "cell_type": "code",
   "execution_count": 1,
   "metadata": {},
   "outputs": [],
   "source": [
    "import numpy as np\n",
    "from itertools import product\n",
    "\n",
    "class portfolio_choice():\n",
    "    \"\"\"Class that implements portfolio choice\"\"\"\n",
    "    \n",
    "    def __init__(self, n, label='no name'):\n",
    "        '''Constructor for the portfolio choice class'''\n",
    "        self.n, self.label = n, label\n",
    "        \n",
    "        self.x = np.zeros((0, self.n))\n",
    "        self.b = np.zeros(1)\n",
    "        self.p = np.zeros((0, self.n))\n",
    "    \n",
    "    def array_check(self, v):\n",
    "        '''Checks if array is in the correct format'''\n",
    "        if isinstance(v, list):\n",
    "            return np.array(v)\n",
    "        elif isinstance(v, np.ndarray):\n",
    "            return v\n",
    "        else:\n",
    "            raise TypeError('Wrong type for input array')\n",
    "        \n",
    "    def set_prices(self, p):\n",
    "        '''Take a list or array with 'n' elements represent the market prices\n",
    "        of the products'''\n",
    "        \n",
    "        if not all (p_i >= 0 for p_i in p):\n",
    "            raise ValueError('Prices must be greater than 0')\n",
    "        \n",
    "        self.p = self.array_check(p)\n",
    "        return self.p\n",
    "    \n",
    "    def add_constraint(self, a, b):\n",
    "        '''Adds a constraint for the production technology'''\n",
    "        self.a = self.array_check(a)\n",
    "        self.a = self.a.reshape((1, self.n))\n",
    "        \n",
    "        self.x = np.concatenate((self.x, self.a), axis=0)\n",
    "        self.b = np.append(self.b, b)\n",
    "    \n",
    "    def remove_constraint(self, i):\n",
    "        '''Removes a constraint for the production technology'''\n",
    "        self.x = np.delete(self.x, i - 1, axis=0)\n",
    "        self.b = np.delete(self.b, i - 1)\n",
    "        \n",
    "    @property\n",
    "    def nr_constraints(self):\n",
    "        '''Number of products'''\n",
    "        return len(self.x)\n"
   ]
  },
  {
   "cell_type": "code",
   "execution_count": 2,
   "metadata": {},
   "outputs": [
    {
     "name": "stderr",
     "output_type": "stream",
     "text": [
      "..\n",
      "----------------------------------------------------------------------\n",
      "Ran 2 tests in 0.003s\n",
      "\n",
      "OK\n"
     ]
    }
   ],
   "source": [
    "import unittest\n",
    "\n",
    "class Portfolio_Choice_Test(unittest.TestCase):\n",
    "    \"\"\"Test code for the portfolio choice case\"\"\"\n",
    "    \n",
    "    def test1(self):\n",
    "        '''Constraint test'''\n",
    "        pf = portfolio_choice(3)\n",
    "        pf.add_constraint([1, 3, 1], 3)\n",
    "        s = '%s' %pf.x\n",
    "        self.assertTrue(s == '[[1. 3. 1.]]')\n",
    "    \n",
    "    def test2(self):\n",
    "        '''Constraint test 2'''\n",
    "        pf = portfolio_choice(3)\n",
    "        pf.add_constraint([1, 3, 1], 3)\n",
    "        s = '%s' %pf.b\n",
    "        self.assertTrue(s == '[0. 3.]')\n",
    "\n",
    "if __name__ == '__main__':\n",
    "    unittest.main(argv = ['first-arg-is-ignored'], exit=False)"
   ]
  },
  {
   "cell_type": "markdown",
   "metadata": {},
   "source": [
    "### Task 2. Develop a simple check for consistency of the problem\n",
    "\n",
    "Before working with a particular parametrization of the model, it is useful to\n",
    "check if there are any combinations of products in the portfolio\n",
    "$ (x_1,x_2,\\dots,x_n) $ which are consistent with all the constraints.\n",
    "\n",
    "Implement the following simple algorithm (the full treatment of the problem\n",
    "can be found, for example, in A.Schrijver “Theory of linear and integer programming”, Sect. 3.7.8).\n",
    "\n",
    "- choose an upper bound and create a fairly fine grid between zero and this bound  \n",
    "- systematically loop through all points of the finite hypercube induced by applying the\n",
    "  grid in each of $ n $ dimensions, in other words, use $ n $ nested loops through\n",
    "  the points of the grid to enumerate all points of the $ n $-dimensional space\n",
    "  within the upper bound  \n",
    "- for each point check all model constraints  \n",
    "- if a point consistent with all constraints is found, break out of the loops and return\n",
    "  true for the consistency check (the system of constraints seems consistent)  \n",
    "- otherwise, return false (the system of constraints seems inconsistent)  \n",
    "\n",
    "\n",
    "Write a function which takes a model object and returns the result of consistency check.\n",
    "\n",
    "Call this function before performing any of the tasks below to ensure adequate\n",
    "functioning of the code."
   ]
  },
  {
   "cell_type": "code",
   "execution_count": 3,
   "metadata": {},
   "outputs": [],
   "source": [
    "def consistency_check(model,\n",
    "                      grid,\n",
    "                      n, \n",
    "                      maxiter=1000):\n",
    "\n",
    "    candidates = np.array(list(product(grid, repeat=n))) # Change this\n",
    "    iter_count = 1\n",
    "    i = 1   # We skip x = [0, 0, ..., 0] which is a trival solution\n",
    "    \n",
    "    # Commence iteration\n",
    "    while (i < len(candidates)) and (i <= maxiter):\n",
    "        b1 = model.x @ candidates[i]\n",
    "        if all(b1 <= model.b[1::]): # Fix this\n",
    "            consistency = 'Consistent! A consistent candidate solution found in iteration number: {} where x = {}'.format(iter_count,candidates[i])\n",
    "            return consistency\n",
    "            break\n",
    "        else:\n",
    "            iter_count += 1\n",
    "            i += 1\n",
    "    else:\n",
    "        inconsistency = 'Not consistent! Max number of iterations = {} reached'.format(iter_count)\n",
    "        return inconsistency"
   ]
  },
  {
   "cell_type": "code",
   "execution_count": 4,
   "metadata": {},
   "outputs": [
    {
     "name": "stderr",
     "output_type": "stream",
     "text": [
      "...\n",
      "----------------------------------------------------------------------\n",
      "Ran 3 tests in 0.003s\n",
      "\n",
      "OK\n"
     ]
    }
   ],
   "source": [
    "class Task2_test(unittest.TestCase):\n",
    "    '''Test code for Consistency Check function'''\n",
    "    \n",
    "    def test_postive(self):\n",
    "        \"\"\"Test for positive result\"\"\"\n",
    "        p2 = portfolio_choice(2)\n",
    "        p2.add_constraint([-1,1], 4)\n",
    "        p2.add_constraint([2,-1], 8)\n",
    "        p2.add_constraint([1,2], 14)\n",
    "        grid = np.linspace(0,10,10)\n",
    "        a = consistency_check(model=p2, grid=grid, n=2);\n",
    "        self.assertTrue(a == 'Consistent! A consistent candidate solution found in iteration number: 1 where x = [0.         1.11111111]')\n",
    "        \n",
    "if __name__ == '__main__':\n",
    "    unittest.main(argv = ['first-arg-is-ignored'], exit=False)"
   ]
  },
  {
   "cell_type": "markdown",
   "metadata": {},
   "source": [
    "### Task 3. Graphical representation of 2D problems\n",
    "\n",
    "Develop a graphical representation of the problem when $ n=2 $, similar to\n",
    "[this example](https://ds055uzetaobb.cloudfront.net/brioche/uploads/3mbYZ5LMun-linear-programming-proof.png?width=1200).\n",
    "The diagram should include:\n",
    "\n",
    "- all constrains represented by thin lines of the same color (i.e. blue)  \n",
    "- the filled (colored) polygon bounded by the constrains\n",
    "  (Hint: use alpha<1 for semi-transparent fill, loop at the [polygon](https://matplotlib.org/3.1.0/api/_as_gen/matplotlib.patches.Polygon.html) command in matplotlib)  \n",
    "- the grid squares  \n",
    "- level curves of the objective function in a contrasting color (i.e. red)  \n",
    "\n",
    "\n",
    "In defining the coordinates of the polygon marked out by the constrains\n",
    "you have to compute the intersection points of the lines. Adapt the code form\n",
    "week 5 assignment which is designed to find intersection points of line segments."
   ]
  },
  {
   "cell_type": "code",
   "execution_count": 5,
   "metadata": {
    "hide-output": false
   },
   "outputs": [],
   "source": [
    "# draft of the line intersection code\n",
    "\n",
    "def intersect_lines(a1,b1,a2,b2):\n",
    "    '''Compute the intersection point of two lines a1*x+b1 and a2*x+b2'''\n",
    "    # unpack parameters as points on two axes\n",
    "    x11,y11,x12,y12 = 0,b1,-b1/a1,0  # first line\n",
    "    x21,y21,x22,y22 = 0,b2,-b2/a2,0  # second line\n",
    "    # form system of equations\n",
    "    A = np.array([[x12-x11,0,-1,0],[0,x22-x21,-1,0],[y12-y11,0,0,-1],[0,y22-y21,0,-1]])\n",
    "    b = np.array([-x11,-x21,-y11,-y21])\n",
    "    try:\n",
    "        t1,t2,x0,y0 = np.linalg.solve(A,b)\n",
    "        # lines do intersect if system is solved\n",
    "        return x0,y0\n",
    "    except:\n",
    "        return None"
   ]
  },
  {
   "cell_type": "code",
   "execution_count": 6,
   "metadata": {},
   "outputs": [
    {
     "data": {
      "text/plain": [
       "array([1, 1])"
      ]
     },
     "execution_count": 6,
     "metadata": {},
     "output_type": "execute_result"
    }
   ],
   "source": [
    "pf = portfolio_choice(2)\n",
    "\n",
    "pf.add_constraint([1.5,1], 6)\n",
    "pf.add_constraint([-5,1], -5)\n",
    "pf.add_constraint([-0.5,1], 4)\n",
    "pf.add_constraint([2.2,1], 14)\n",
    "pf.add_constraint([0.2,1], 2)\n",
    "\n",
    "pf.set_prices([1, 1])"
   ]
  },
  {
   "cell_type": "code",
   "execution_count": 7,
   "metadata": {},
   "outputs": [],
   "source": [
    "x = np.zeros(5)\n",
    "y = np.zeros(5)\n",
    "\n",
    "for i in range(4):\n",
    "    x[i], y[i] = intersect_lines(- pf.x[i][0], pf.b[i + 1], - pf.x[i + 1][0], pf.b[i + 2])\n",
    "x[4], y[4] = intersect_lines(- pf.x[0][0], pf.b[1], - pf.x[4][0], pf.b[5])"
   ]
  },
  {
   "cell_type": "code",
   "execution_count": 8,
   "metadata": {},
   "outputs": [
    {
     "data": {
      "text/plain": [
       "<Figure size 800x600 with 1 Axes>"
      ]
     },
     "metadata": {},
     "output_type": "display_data"
    }
   ],
   "source": [
    "import matplotlib.pyplot as plt\n",
    "from matplotlib.patches import Polygon\n",
    "from matplotlib.collections import PatchCollection\n",
    "\n",
    "verts = [[x[0],y[0]], \n",
    "         [x[1], y[1]], \n",
    "         [x[2], y[2]], \n",
    "         [x[3], y[3]], \n",
    "         [x[4], y[4]]]\n",
    "\n",
    "fig, ax = plt.subplots(figsize=(8,6))\n",
    "\n",
    "ax.grid()\n",
    "ax.xaxis.set_ticklabels([])\n",
    "ax.xaxis.set_ticks_position('none')\n",
    "ax.yaxis.set_ticklabels([])\n",
    "ax.yaxis.set_ticks_position('none')\n",
    "\n",
    "ax.set_ylim(-0.5, 8)\n",
    "ax.set_xlim(-0.5, 8)\n",
    "\n",
    "ax.spines['right'].set_visible(False)\n",
    "ax.spines['top'].set_visible(False)\n",
    "ax.spines['left'].set_visible(False)\n",
    "ax.spines['bottom'].set_visible(False)\n",
    "\n",
    "ax.vlines(x = 0, ymin = -0.5, ymax = 8, lw=1.8, color='k', alpha=0.4)\n",
    "ax.hlines(y = 0, xmin = -0.5, xmax = 8, lw=1.8, color='k', alpha=0.4)\n",
    "ax.text(x[4], y[4], 'Minimum Solution', fontsize = 16, horizontalalignment='right', verticalalignment='center')\n",
    "ax.text(x[2], y[2], 'Maximum Solution', fontsize = 16)\n",
    "\n",
    "polygon = Polygon(verts, color = 'blue', alpha=0.1)\n",
    "ax.add_patch(polygon)\n",
    "\n",
    "for i in range(4):\n",
    "    ax.plot([x[i], x[i + 1]], [y[i], y[i + 1]], color='b')\n",
    "ax.plot([x[0], x[4]], [y[0], y[4]], color='b')\n",
    "\n",
    "z = np.linspace(0, 8, 100)\n",
    "\n",
    "intercept = np.linspace(4.461538461538462, 9.555555555555554, 5)\n",
    "\n",
    "for i in range(intercept.size):\n",
    "    ax.plot(z, - z + intercept[i], color='r')\n",
    "\n",
    "ax.scatter(x, y, color='k')\n",
    "\n",
    "plt.show()"
   ]
  },
  {
   "cell_type": "markdown",
   "metadata": {},
   "source": [
    "### Task 4. Finding optimal product portfolio\n",
    "\n",
    "Write the solver function for the model, which would take the model object as\n",
    "an input and output a vector of quantities of each product to be produced.\n",
    "\n",
    "Within the function express the problem in terms of linear programming objects\n",
    "(matrix and vector), and use the linear solver similar to the second part of\n",
    "week 5 lecture.\n",
    "\n",
    "Use the following model specification. The $ n=2 $ goods production technology\n",
    "is restricted by\n",
    "\n",
    "$$\n",
    "\\begin{cases}\n",
    "y - x  &\\le& 4, \\\\\n",
    "2x - y &\\le&8,\n",
    "\\end{cases}\n",
    "$$\n",
    "\n",
    "In addition, there is a resource constraint given by $ x + 2y \\le 14 $.\n",
    "Do not forget about non-negativity constrains on $ x $ and $ y $.\n",
    "\n",
    "Finally, let profit be given by $ \\pi(x,y) = y + 2x $."
   ]
  },
  {
   "cell_type": "code",
   "execution_count": 9,
   "metadata": {},
   "outputs": [
    {
     "name": "stdout",
     "output_type": "stream",
     "text": [
      "iteration 0, current solution [0. 0.]\n",
      "iteration 1, current solution [4. 0.]\n",
      "iteration 2, current solution [6. 4.]\n",
      "iteration 3, current solution [6. 4.]\n",
      "iteration 3, current solution [6. 4.]\n"
     ]
    },
    {
     "data": {
      "text/plain": [
       "     con: array([], dtype=float64)\n",
       "     fun: -16.0\n",
       " message: 'Optimization terminated successfully.'\n",
       "     nit: 3\n",
       "   slack: array([6., 0., 0.])\n",
       "  status: 0\n",
       " success: True\n",
       "       x: array([6., 4.])"
      ]
     },
     "execution_count": 9,
     "metadata": {},
     "output_type": "execute_result"
    }
   ],
   "source": [
    "pf2 = portfolio_choice(2)\n",
    "\n",
    "pf2.add_constraint([-1, 1], 4)\n",
    "pf2.add_constraint([1, 2], 14)\n",
    "pf2.add_constraint([2, -1], 8)\n",
    "\n",
    "pf2.set_prices([2, 1])\n",
    "\n",
    "from scipy.optimize import linprog\n",
    "\n",
    "c = - pf2.p # Since maximisation problem\n",
    "A = pf2.x\n",
    "b = pf2.b[1::]\n",
    "    \n",
    "def outf(args):\n",
    "    print('iteration %d, current solution %s'%(args['nit'],args['x']))\n",
    "\n",
    "solution = linprog(c=c,A_ub=A,b_ub=b,method='simplex',callback=outf)\n",
    "solution"
   ]
  },
  {
   "cell_type": "code",
   "execution_count": 10,
   "metadata": {
    "hide-output": false
   },
   "outputs": [
    {
     "name": "stdout",
     "output_type": "stream",
     "text": [
      "iteration 0, current solution [0. 0.]\n",
      "iteration 1, current solution [4. 0.]\n",
      "iteration 2, current solution [6. 4.]\n",
      "iteration 3, current solution [6. 4.]\n",
      "iteration 3, current solution [6. 4.]\n"
     ]
    },
    {
     "data": {
      "text/plain": [
       "     con: array([], dtype=float64)\n",
       "     fun: -16.0\n",
       " message: 'Optimization terminated successfully.'\n",
       "     nit: 3\n",
       "   slack: array([6., 0., 0., 6., 4.])\n",
       "  status: 0\n",
       " success: True\n",
       "       x: array([6., 4.])"
      ]
     },
     "execution_count": 10,
     "metadata": {},
     "output_type": "execute_result"
    }
   ],
   "source": [
    "# THIS SOLUTION IS INDICATIVE ONLY, NEED TO USE THE CLASS!\n",
    "\n",
    "import numpy as np\n",
    "from scipy.optimize import linprog\n",
    "\n",
    "c = np.array([-2,-1])\n",
    "A = np.array([[-1,1],[2,-1],[1,2],[-1,0],[0,-1]])\n",
    "b = np.array([4,8,14,0,0])\n",
    "\n",
    "def outf(args):\n",
    "    print('iteration %d, current solution %s'%(args['nit'],args['x']))\n",
    "\n",
    "linprog(c=c,A_ub=A,b_ub=b,method='simplex',callback=outf)"
   ]
  },
  {
   "cell_type": "markdown",
   "metadata": {},
   "source": [
    "### Task 5. Plot and analyze the solution\n",
    "\n",
    "Make a separate function to plot the solution of the model when $ n=2 $:\n",
    "it should show the polygon in the same way as in Task 3, but instead of collection\n",
    "of level curves, it should only plot one curve line that corresponds to the\n",
    "solution of the problem.  Mark the solution with a red dot.\n",
    "\n",
    "Show the solution under the specification of Task 4."
   ]
  },
  {
   "cell_type": "code",
   "execution_count": 11,
   "metadata": {},
   "outputs": [],
   "source": [
    "c = np.zeros(5)\n",
    "d = np.zeros(5)\n",
    "\n",
    "c[0], d[0] = 0.0, 0.0\n",
    "c[1], d[1] = 0.0, 4.0\n",
    "c[2], d[2] = intersect_lines(-pf2.x[0][0]/pf2.x[0][1], pf2.b[1]/pf2.x[0][1], -pf2.x[1][0]/pf2.x[1][1], pf2.b[2]/pf2.x[1][1])\n",
    "c[3], d[3] = intersect_lines(-pf2.x[1][0]/pf2.x[1][1], pf2.b[2]/pf2.x[1][1], -pf2.x[2][0]/pf2.x[2][1], pf2.b[3]/pf2.x[2][1])\n",
    "c[4], d[4] = 4.0, 0.0"
   ]
  },
  {
   "cell_type": "code",
   "execution_count": 12,
   "metadata": {},
   "outputs": [
    {
     "data": {
      "image/png": "[encoded data removed]",
      "text/plain": [
       "<Figure size 576x432 with 1 Axes>"
      ]
     },
     "metadata": {
      "needs_background": "light"
     },
     "output_type": "display_data"
    }
   ],
   "source": [
    "verts = [[c[0], d[0]], \n",
    "         [c[1], d[1]], \n",
    "         [c[2], d[2]], \n",
    "         [c[3], d[3]], \n",
    "         [c[4], d[4]]]\n",
    "\n",
    "fig, ax = plt.subplots(figsize=(8,6))\n",
    "\n",
    "ax.grid()\n",
    "ax.xaxis.set_ticklabels([])\n",
    "ax.xaxis.set_ticks_position('none')\n",
    "ax.yaxis.set_ticklabels([])\n",
    "ax.yaxis.set_ticks_position('none')\n",
    "\n",
    "ax.set_ylim(-0.5, 8)\n",
    "ax.set_xlim(-0.5, 8)\n",
    "\n",
    "ax.spines['right'].set_visible(False)\n",
    "ax.spines['top'].set_visible(False)\n",
    "ax.spines['left'].set_visible(False)\n",
    "ax.spines['bottom'].set_visible(False)\n",
    "\n",
    "ax.vlines(x = 0, ymin = -0.5, ymax = 8, lw=1.8, color='k', alpha=0.4)\n",
    "ax.hlines(y = 0, xmin = -0.5, xmax = 8, lw=1.8, color='k', alpha=0.4)\n",
    "ax.text(c[3], d[3], 'Maximum Solution', fontsize = 16)\n",
    "\n",
    "polygon2 = Polygon(verts, color = 'blue', alpha=0.1)\n",
    "ax.add_patch(polygon2)\n",
    "\n",
    "for i in range(4):\n",
    "    ax.plot([c[i], c[i + 1]], [d[i], d[i + 1]], color='b')\n",
    "ax.plot([c[0], c[4]], [d[0], d[4]], color='b')\n",
    "\n",
    "z = np.linspace(0, 8, 100)\n",
    "\n",
    "ax.plot(z, - 2 * z + 16, color='r')\n",
    "\n",
    "ax.scatter(c, d, color='k')\n",
    "\n",
    "plt.show()"
   ]
  },
  {
   "cell_type": "markdown",
   "metadata": {},
   "source": [
    "### Task 6. Short analysis\n",
    "\n",
    "What is the minimum change in product net prices that would lead to a change in the optimal portfolio?\n",
    "Show this situation graphically.\n",
    "\n",
    "What are the prices that result in multiple product portfolios being optimal?\n",
    "Show this situation graphically as well."
   ]
  },
  {
   "cell_type": "code",
   "execution_count": 13,
   "metadata": {},
   "outputs": [
    {
     "data": {
      "image/png": "[encoded data removed]",
      "text/plain": [
       "<Figure size 720x432 with 2 Axes>"
      ]
     },
     "metadata": {
      "needs_background": "light"
     },
     "output_type": "display_data"
    }
   ],
   "source": [
    "verts = [[c[0], d[0]], \n",
    "         [c[1], d[1]], \n",
    "         [c[2], d[2]], \n",
    "         [c[3], d[3]], \n",
    "         [c[4], d[4]]]\n",
    "\n",
    "fig, ax = plt.subplots(1, 2, figsize=(10,6))\n",
    "\n",
    "for i in range(ax.size):\n",
    "    ax[i].grid()\n",
    "    ax[i].xaxis.set_ticklabels([])\n",
    "    ax[i].xaxis.set_ticks_position('none')\n",
    "    ax[i].yaxis.set_ticklabels([])\n",
    "    ax[i].yaxis.set_ticks_position('none')\n",
    "\n",
    "    ax[i].set_ylim(-0.5, 8)\n",
    "    ax[i].set_xlim(-0.5, 8)\n",
    "\n",
    "    ax[i].spines['right'].set_visible(False)\n",
    "    ax[i].spines['top'].set_visible(False)\n",
    "    ax[i].spines['left'].set_visible(False)\n",
    "    ax[i].spines['bottom'].set_visible(False)\n",
    "\n",
    "    ax[i].vlines(x = 0, ymin = -0.5, ymax = 8, lw=1.8, color='k', alpha=0.4)\n",
    "    ax[i].hlines(y = 0, xmin = -0.5, xmax = 8, lw=1.8, color='k', alpha=0.4)\n",
    "\n",
    "\n",
    "    polygon2 = Polygon(verts, color = 'blue', alpha=0.1)\n",
    "    ax[i].add_patch(polygon2)\n",
    "    \n",
    "    ax[i].scatter(c, d, color='k')\n",
    "    \n",
    "    for j in range(4):\n",
    "        ax[i].plot([c[j], c[j + 1]], [d[j], d[j + 1]], color='b')\n",
    "    ax[i].plot([c[0], c[4]], [d[0], d[4]], color='b')\n",
    "\n",
    "\n",
    "ax[0].text(c[2], d[2], 'Maximum Solution', fontsize = 16)\n",
    "ax[1].text(4, 5, 'Maximum Solutions', fontsize = 16, horizontalalignment='left')\n",
    "\n",
    "z = np.linspace(0, 8, 100)\n",
    "\n",
    "ax[0].plot(z, - (1/5) * z + (32/5), color='r')\n",
    "ax[1].plot(z, - (1/2) * z + 7, color='r')\n",
    "\n",
    "plt.show()"
   ]
  },
  {
   "cell_type": "markdown",
   "metadata": {},
   "source": [
    "### Task 7. Higher dimensional problems\n",
    "\n",
    "Specify your own problem with $ n=4 $ products, and solve it using the programmed method.\n",
    "\n",
    "- Come up with several constrains with economic interpretation  \n",
    "- Don’t forget about the non-negativity constraints  \n",
    "- Consider a fixed cost of running the production, and how it would be expressed in the model  "
   ]
  },
  {
   "cell_type": "code",
   "execution_count": null,
   "metadata": {},
   "outputs": [],
   "source": []
  }
 ],
 "metadata": {
  "filename": "midterm_topic5.rst",
  "kernelspec": {
   "display_name": "Python 3",
   "language": "python",
   "name": "python3"
  },
  "language_info": {
   "codemirror_mode": {
    "name": "ipython",
    "version": 3
   },
   "file_extension": ".py",
   "mimetype": "text/x-python",
   "name": "python",
   "nbconvert_exporter": "python",
   "pygments_lexer": "ipython3",
   "version": "3.7.3"
  },
  "title": "Midterm Assignment, topic 5: Product portfolio choice"
 },
 "nbformat": 4,
 "nbformat_minor": 2
}
