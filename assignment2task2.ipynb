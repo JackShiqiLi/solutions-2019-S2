{
 "cells": [
  {
   "cell_type": "markdown",
   "metadata": {},
   "source": [
    "# Weekly assignment 2.2: Bundles goods market\n",
    "\n",
    "Consider the following hypothetical model a bundle goods market. A\n",
    "bundle of goods is a collection of particular items offered at a\n",
    "specified price. Think of Happy Meals offers at McDonalds: you get a set\n",
    "of goods in a meal, for a particular price.\n",
    "\n",
    "One other example of bundled goods - subscription packages in theaters,\n",
    "for example [La Scala in\n",
    "Milan](http://www.teatroallascala.org/en/box-office/subscriptions/types/subscription-types-2018-2019.html)\n",
    "or [Mariinsky in\n",
    "St.Peterburg](https://www.mariinsky.ru/playbill/subscriptions/2018_2019).\n",
    "\n",
    "In this task you will write code to implement and operationalize this\n",
    "setup."
   ]
  },
  {
   "cell_type": "markdown",
   "metadata": {},
   "source": [
    "## Task 1\n",
    "\n",
    "Start with defining a class of a bundle good using the start up code\n",
    "below. The class attribute (common to all objects of this class) is a\n",
    "list of goods. The public property of any bundle is a vector of\n",
    "integers defining how many of each goods are in the bundle, together\n",
    "with the price for that bundle.\n",
    "\n",
    "We are interested in defining the arithmetics for the bungles:\n",
    "\n",
    "- addition:  \n",
    "\n",
    "\n",
    "> 1. sum of two bundles should produce a bundle with added up items\n",
    "  and sum of the prices  \n",
    "1. sum of a bundle and a number (float or int) should only increase\n",
    "  the price  \n",
    "\n",
    "\n",
    "\n",
    "- subtraction:  \n",
    "\n",
    "\n",
    "> 1. difference between two bundles should produce a bundle with\n",
    "  difference in items and difference in prices  \n",
    "1. subtracting a number (float or int) from a bundle should only\n",
    "  decrease its price  \n",
    "\n",
    "\n",
    "\n",
    "- multiplication is only defined for bundle and an integers, and should produce  the bundle with all items multiplied by this number, and price increased by the same number  \n",
    "- devision is only defined for integers, and only such that the all quantities are divisible by this integer, the resulting bundle is a fraction of the original, with the price also decreased by the same number  \n",
    "\n",
    "\n",
    "Complete the class definition code, and run the tests in the next cell.\n",
    "Replace @@@ with appropriate commands (or lines of commands)"
   ]
  },
  {
   "cell_type": "code",
   "execution_count": 30,
   "metadata": {
    "hide-output": false
   },
   "outputs": [
    {
     "ename": "SyntaxError",
     "evalue": "invalid syntax (<ipython-input-30-edc400155abf>, line 16)",
     "output_type": "error",
     "traceback": [
      "\u001b[0;36m  File \u001b[0;32m\"<ipython-input-30-edc400155abf>\"\u001b[0;36m, line \u001b[0;32m16\u001b[0m\n\u001b[0;31m    return len(bundle_good.@@@)\u001b[0m\n\u001b[0m                           ^\u001b[0m\n\u001b[0;31mSyntaxError\u001b[0m\u001b[0;31m:\u001b[0m invalid syntax\n"
     ]
    }
   ],
   "source": [
    "import math\n",
    "\n",
    "class bundle_good():\n",
    "    '''Class of bundled goods with well defined arithmetics'''\n",
    "\n",
    "    items = ('Opera A', 'Opera B', \\\n",
    "             'Ballet A', 'Ballet B', \\\n",
    "             'Symphonic orchestra concert', \\\n",
    "             'Rock opera', \\\n",
    "             'Operetta') # 7 different goods\n",
    "\n",
    "    # to make a computable attribute\n",
    "    @property\n",
    "    def nItems(self):\n",
    "        '''Numer of products'''\n",
    "        return len(bundle_good.@@@)\n",
    "\n",
    "    def __init__(self,quantities=[0,0,0,0,0,0,0],price=0.0):\n",
    "        '''@@@'''\n",
    "\n",
    "        if len(quantities)<self.nItems:\n",
    "            # add zeros for the unspecified items\n",
    "            quantities += [0,]*(@@@)\n",
    "        elif @@@>self.nItems:\n",
    "            # ignore extra numbers\n",
    "            quantities = quantities[@@@]\n",
    "        #ensure the quantities in the object are integer (using list comprehension)\n",
    "        self.quantities=[math.floor(x) for @@@]\n",
    "        self.price=@@@\n",
    "\n",
    "    def __repr__(@@@):\n",
    "        '''String representation of the object'''\n",
    "        return 'Bundle object %r with price %1.2f' % (self.quantities,self.price)\n",
    "\n",
    "    def __add__(self,other):\n",
    "        '''@@@'''\n",
    "\n",
    "        if type(other) is @@@:\n",
    "            # add the quantities using list comprehension with one-to-one matching (zip)\n",
    "            q1=[x+y for x,y in @@@(self.quantities, other.quantities)]\n",
    "            # sum of the prices\n",
    "            p1=@@@.price + @@@.price\n",
    "            # return new bundle\n",
    "            return bundle_good(@@@)\n",
    "\n",
    "        elif type(@@@) in (float,int):\n",
    "            # increase the price\n",
    "            p1=@@@ + other\n",
    "            # return new bundle\n",
    "            return bundle_good(@@@)\n",
    "\n",
    "        else:\n",
    "            # if other is of the wrong type, raise the TypeError like this:\n",
    "            raise TypeError('Can only add bundle to bundle, or number to bundle price')\n",
    "\n",
    "    def __sub__(self,other):\n",
    "        '''Subtraction for bundles: subtract items and prices, or decrease price'''\n",
    "\n",
    "        @@@\n",
    "\n",
    "        else:\n",
    "            raise TypeError('Can only subtract bundle from bundle, or number from bundle price')\n",
    "\n",
    "    def __mul__(self,num):\n",
    "        '''@@@'''\n",
    "\n",
    "        @@@\n",
    "\n",
    "    def __truediv__(self,num):\n",
    "        '''Division for bundles: fraction of the original bundle, only if quantities are devisable'''\n",
    "\n",
    "        if @@@ is int:\n",
    "            # divide quantities and check for divisibility\n",
    "            q1=[0,]*self.nItems\n",
    "            for i in range(@@@):\n",
    "                if self.quantities[i] % num == @@@:\n",
    "                    q1[i] = self.quantities[@@@] / @@@\n",
    "                else:\n",
    "                    # if can not be devided without a remainder, raise ValueError:\n",
    "                    raise ValueError('Can not divide bundle into fractional parts')\n",
    "            # divide the price\n",
    "            p1 = @@@\n",
    "            # return new bundle\n",
    "            return @@@\n",
    "\n",
    "        else:\n",
    "            raise TypeError('Can only divide bundle by an integer')"
   ]
  },
  {
   "cell_type": "code",
   "execution_count": null,
   "metadata": {
    "hide-output": false
   },
   "outputs": [],
   "source": [
    "import math\n",
    "\n",
    "class bundle_good():\n",
    "    '''Class of bundled goods with well defined arithmetics'''\n",
    "\n",
    "    items = ('Opera A', 'Opera B', \\\n",
    "             'Ballet A', 'Ballet B', \\\n",
    "             'Symphonic orchestra concert', \\\n",
    "             'Rock opera', \\\n",
    "             'Operetta') # 7 different goods\n",
    "\n",
    "    # to make a computable attribute\n",
    "    @property\n",
    "    def nItems(self):\n",
    "        '''Numer of products'''\n",
    "        return len(bundle_good.items)\n",
    "\n",
    "    def __init__(self,quantities=[0,0,0,0,0,0,0],price=0.0):\n",
    "        '''Creates the bundle good object'''\n",
    "\n",
    "        if len(quantities)<self.nItems:\n",
    "            # add zeros for the unspecified items\n",
    "            quantities += [0,]*(self.nItems-len(quantities))\n",
    "        elif len(quantities)>self.nItems:\n",
    "            # ignore extra numbers\n",
    "            quantities = quantities[0:self.nItems]\n",
    "        #ensure the quantities in the object are integer\n",
    "        self.quantities=[math.floor(x) for x in quantities]\n",
    "        self.price=price\n",
    "\n",
    "    def __repr__(self):\n",
    "        '''String representation of the object'''\n",
    "        return 'Bundle object %r with price %1.2f' % (self.quantities,self.price)\n",
    "\n",
    "    def __add__(self,other):\n",
    "        '''Addition for bundles: add items and sum prices, or increase price'''\n",
    "\n",
    "        if type(other) is bundle_good:\n",
    "            # add the quantities using list comprehension with one-to-one matching (zip)\n",
    "            q1=[x+y for x,y in zip(self.quantities, other.quantities)]\n",
    "            # sum of the prices\n",
    "            p1=self.price + other.price\n",
    "            # return new bundle\n",
    "            return bundle_good(quantities=q1,price=p1)\n",
    "\n",
    "        elif type(other) in (float,int):\n",
    "            # increase the price\n",
    "            p1=self.price + other\n",
    "            # return new bundle\n",
    "            return bundle_good(quantities=self.quantities,price=p1)\n",
    "\n",
    "        else:\n",
    "            raise TypeError('Can only add bundle to bundle, or number to bundle price')\n",
    "\n",
    "    def __sub__(self,other):\n",
    "        '''Subtraction for bundles: subtract items and prices, or decrease price'''\n",
    "\n",
    "        if type(other) is bundle_good:\n",
    "            # subtract the quantities using list comprehension with one-to-one matching (zip)\n",
    "            q1=[x-y for x,y in zip(self.quantities, other.quantities)]\n",
    "            # sum of the prices\n",
    "            p1=self.price - other.price\n",
    "            # return new bundle\n",
    "            return bundle_good(quantities=q1,price=p1)\n",
    "\n",
    "        elif type(other) in (float,int):\n",
    "            # decrease the price\n",
    "            p1=self.price - other\n",
    "            # return new bundle\n",
    "            return bundle_good(quantities=self.quantities,price=p1)\n",
    "\n",
    "        else:\n",
    "            raise TypeError('Can only subtract bundle from bundle, or number from bundle price')\n",
    "\n",
    "    def __mul__(self,num):\n",
    "        '''Multiplication for bundles: repetition of the original bundle'''\n",
    "\n",
    "        if type(num) is int:\n",
    "            # multiply quantities using list comprehension\n",
    "            q1=[x * num for x in self.quantities]\n",
    "            # multiply the price\n",
    "            p1=self.price * num\n",
    "            # return new bundle\n",
    "            return bundle_good(price=p1,quantities=q1)\n",
    "\n",
    "        else:\n",
    "            raise TypeError('Can only multiply bundle by an integer')\n",
    "\n",
    "    def __truediv__(self,num):\n",
    "        '''Division for bundles: fraction of the original bundle, only if quantities are devisable'''\n",
    "\n",
    "        if type(num) is int:\n",
    "            # divide quantities and check for divisibility\n",
    "            q1=[0,]*self.nItems\n",
    "            for i in range(self.nItems):\n",
    "                if self.quantities[i] % num == 0:\n",
    "                    q1[i] = self.quantities[i] / num\n",
    "                else:\n",
    "                    # if can not be devided without a remainder, raise ValueError\n",
    "                    raise ValueError('Can not divide bundle into fractional parts')\n",
    "            # divide the price\n",
    "            p1=self.price / num\n",
    "            # return new bundle\n",
    "            return bundle_good(price=p1,quantities=q1)\n",
    "\n",
    "        else:\n",
    "            raise TypeError('Can only divide bundle by an integer')"
   ]
  },
  {
   "cell_type": "code",
   "execution_count": null,
   "metadata": {},
   "outputs": [],
   "source": []
  },
  {
   "cell_type": "markdown",
   "metadata": {},
   "source": [
    "## Task 2\n",
    "\n",
    "To make sure the class is running as it is supposed to, run all the\n",
    "tests below and confirm that the output is as expected."
   ]
  },
  {
   "cell_type": "code",
   "execution_count": null,
   "metadata": {
    "hide-output": false
   },
   "outputs": [],
   "source": [
    "# Tests\n",
    "x=bundle_good([1,2,3,4,5,6,7],11.43)\n",
    "print(x) #should print \"Bundle object [1, 2, 3, 4, 5, 6, 7] with price 11.43\""
   ]
  },
  {
   "cell_type": "code",
   "execution_count": null,
   "metadata": {},
   "outputs": [],
   "source": []
  },
  {
   "cell_type": "code",
   "execution_count": null,
   "metadata": {},
   "outputs": [],
   "source": []
  },
  {
   "cell_type": "code",
   "execution_count": null,
   "metadata": {},
   "outputs": [],
   "source": []
  },
  {
   "cell_type": "code",
   "execution_count": 39,
   "metadata": {
    "hide-output": false
   },
   "outputs": [
    {
     "name": "stdout",
     "output_type": "stream",
     "text": [
      "Bundle object [1, 2, 0, 0, 0, 0, 0] with price 0.00\n"
     ]
    }
   ],
   "source": [
    "x=bundle_good([1,2])\n",
    "print(x) #should print \"Bundle object [1, 2, 0, 0, 0, 0, 0] with price 0.00\""
   ]
  },
  {
   "cell_type": "code",
   "execution_count": 40,
   "metadata": {
    "hide-output": false
   },
   "outputs": [
    {
     "name": "stdout",
     "output_type": "stream",
     "text": [
      "Bundle object [0, 1, 2, 3, 4, 5, 6] with price 100.20\n"
     ]
    }
   ],
   "source": [
    "x=bundle_good(range(25),100.2)\n",
    "print(x) #should print \"Bundle object [0, 1, 2, 3, 4, 5, 6] with price 100.20\""
   ]
  },
  {
   "cell_type": "code",
   "execution_count": 41,
   "metadata": {
    "hide-output": false
   },
   "outputs": [
    {
     "name": "stdout",
     "output_type": "stream",
     "text": [
      "Bundle object [1, 2, 3, 4, 5, 6, 7] with price 1.43\n"
     ]
    }
   ],
   "source": [
    "x=bundle_good([1.5,2.3,3.2,4.1,5.75,6.86,7.97],1.43)\n",
    "print(x) #should print \"Bundle object [1, 2, 3, 4, 5, 6, 7] with price 1.43\""
   ]
  },
  {
   "cell_type": "code",
   "execution_count": 42,
   "metadata": {
    "hide-output": false
   },
   "outputs": [
    {
     "name": "stdout",
     "output_type": "stream",
     "text": [
      "Bundle object [8, 8, 8, 8, 8, 8, 8] with price 88.88\n"
     ]
    }
   ],
   "source": [
    "x=bundle_good([1,2,3,4,5,6,7],11.43)\n",
    "y=bundle_good([7,6,5,4,3,2,1],77.45)\n",
    "z=x+y\n",
    "print(z) #should print \"Bundle object [8, 8, 8, 8, 8, 8, 8] with price 88.88\""
   ]
  },
  {
   "cell_type": "code",
   "execution_count": 43,
   "metadata": {
    "hide-output": false
   },
   "outputs": [
    {
     "name": "stdout",
     "output_type": "stream",
     "text": [
      "Bundle object [6, 4, 2, 0, -2, -4, -6] with price 66.02\n"
     ]
    }
   ],
   "source": [
    "z=y-x\n",
    "print(z) #should print \"Bundle object [6, 4, 2, 0, -2, -4, -6] with price 66.02\""
   ]
  },
  {
   "cell_type": "code",
   "execution_count": 44,
   "metadata": {
    "hide-output": false
   },
   "outputs": [
    {
     "name": "stdout",
     "output_type": "stream",
     "text": [
      "Bundle object [1, 2, 3, 4, 5, 6, 7] with price 15.96\n"
     ]
    }
   ],
   "source": [
    "z=x+4.531\n",
    "print(z) #should print \"Bundle object [1, 2, 3, 4, 5, 6, 7] with price 15.96\""
   ]
  },
  {
   "cell_type": "code",
   "execution_count": 45,
   "metadata": {
    "hide-output": false
   },
   "outputs": [
    {
     "name": "stdout",
     "output_type": "stream",
     "text": [
      "Bundle object [7, 6, 5, 4, 3, 2, 1] with price 0.45\n"
     ]
    }
   ],
   "source": [
    "z=y-77\n",
    "print(z) #should print \"Bundle object [7, 6, 5, 4, 3, 2, 1] with price 0.45\""
   ]
  },
  {
   "cell_type": "code",
   "execution_count": 46,
   "metadata": {
    "hide-output": false
   },
   "outputs": [
    {
     "name": "stdout",
     "output_type": "stream",
     "text": [
      "Bundle object [11, 22, 33, 44, 55, 66, 77] with price 125.73\n"
     ]
    }
   ],
   "source": [
    "z=x*11\n",
    "print(z) #should print \"Bundle object [11, 22, 33, 44, 55, 66, 77] with price 125.73\""
   ]
  },
  {
   "cell_type": "code",
   "execution_count": 47,
   "metadata": {
    "hide-output": false
   },
   "outputs": [
    {
     "name": "stdout",
     "output_type": "stream",
     "text": [
      "Ok 1\n"
     ]
    }
   ],
   "source": [
    "try:\n",
    "    z=x*11.5 #should raise a TypeError\n",
    "except TypeError:\n",
    "    print(\"Ok 1\") #should print \"Ok 1\""
   ]
  },
  {
   "cell_type": "code",
   "execution_count": 48,
   "metadata": {
    "hide-output": false
   },
   "outputs": [
    {
     "name": "stdout",
     "output_type": "stream",
     "text": [
      "Ok 2\n"
     ]
    }
   ],
   "source": [
    "try:\n",
    "    z=x*y #should raise a TypeError\n",
    "except TypeError:\n",
    "    print(\"Ok 2\") #should print \"Ok 2\""
   ]
  },
  {
   "cell_type": "code",
   "execution_count": 49,
   "metadata": {
    "hide-output": false
   },
   "outputs": [
    {
     "name": "stdout",
     "output_type": "stream",
     "text": [
      "Ok 3\n"
     ]
    }
   ],
   "source": [
    "try:\n",
    "    z=x/y #should raise a TypeError\n",
    "except TypeError:\n",
    "    print(\"Ok 3\") #should print \"Ok 3\""
   ]
  },
  {
   "cell_type": "code",
   "execution_count": 51,
   "metadata": {
    "hide-output": false
   },
   "outputs": [
    {
     "name": "stdout",
     "output_type": "stream",
     "text": [
      "Bundle object [1, 1, 1, 1, 1, 1, 1] with price 11.11\n"
     ]
    }
   ],
   "source": [
    "z=(x+y)/8\n",
    "print(z) #should print \"Bundle object [1, 1, 1, 1, 1, 1, 1] with price 11.11\""
   ]
  },
  {
   "cell_type": "code",
   "execution_count": null,
   "metadata": {},
   "outputs": [],
   "source": [
    "`"
   ]
  },
  {
   "cell_type": "code",
   "execution_count": 52,
   "metadata": {
    "hide-output": false
   },
   "outputs": [
    {
     "name": "stdout",
     "output_type": "stream",
     "text": [
      "Ok 4\n"
     ]
    }
   ],
   "source": [
    "try:\n",
    "    (x+y)/7 #should raise a ValueError\n",
    "except ValueError:\n",
    "    print(\"Ok 4\") #should print \"Ok 4\""
   ]
  },
  {
   "cell_type": "code",
   "execution_count": 53,
   "metadata": {
    "hide-output": false
   },
   "outputs": [
    {
     "name": "stdout",
     "output_type": "stream",
     "text": [
      "Bundle object [1, 18, 35, 52, 69, 86, 103] with price 16.55\n"
     ]
    }
   ],
   "source": [
    "z=x*15-y*2\n",
    "print(z) #should print \"Bundle object [1, 18, 35, 52, 69, 86, 103] with price 16.55\""
   ]
  },
  {
   "cell_type": "markdown",
   "metadata": {},
   "source": [
    "## Task 3\n",
    "\n",
    "Now that all tests pass, we can use the class bundle_good for some\n",
    "modeling.\n",
    "\n",
    "Consider a market with only two traded bundles, namely\n",
    "[3,7] and [5,12].\n",
    "\n",
    "If a consumer is willing to consume exactly one unit\n",
    "of the first good, how much of the second good will this consumer have\n",
    "to consume?\n",
    "\n",
    "Hint: using the bundle arithmetics, find a bundle with exactly\n",
    "one unit of the first good."
   ]
  },
  {
   "cell_type": "code",
   "execution_count": 54,
   "metadata": {
    "hide-output": false
   },
   "outputs": [],
   "source": [
    "a=bundle_good([3,7])\n",
    "b=bundle_good([5,12])"
   ]
  },
  {
   "cell_type": "code",
   "execution_count": 55,
   "metadata": {
    "hide-output": false
   },
   "outputs": [
    {
     "data": {
      "text/plain": [
       "Bundle object [1, 2, 0, 0, 0, 0, 0] with price 0.00"
      ]
     },
     "execution_count": 55,
     "metadata": {},
     "output_type": "execute_result"
    }
   ],
   "source": [
    "a=bundle_good([3,7])\n",
    "b=bundle_good([5,12])\n",
    "\n",
    "a*2-b"
   ]
  },
  {
   "cell_type": "markdown",
   "metadata": {},
   "source": [
    "## Task 4\n",
    "\n",
    "Consider a consumer with a utility function over the individual goods\n",
    "given by\n",
    "\n",
    "u(x_1,dots,x_7)=log(x_1+1)+big((x_2)^{0.4}+0.5(x_3)^{0.4}big)^{2.5}-0.5log(x_4+1)-0.2(x_5*x_6)^{0.2}+2log(x_7+1).\n",
    "\n",
    "Find the optimal set of bundle goods to be consumed by comparing\n",
    "different combinations of the available bundles shown in the starter\n",
    "code below.\n",
    "There are only three bundle goods on the market, so we\n",
    "can afford a brute force optimization algorithm implemented as a\n",
    "triple nested loop, with each level corresponding to one bundle good\n",
    "and looping from 0 to some reasonable number (think which number\n",
    "would be reasonable).\n",
    "\n",
    "Compute the optimal choice for budgets of:\n",
    "\n",
    "1. 100  \n",
    "1. 200  \n",
    "1. 300  "
   ]
  },
  {
   "cell_type": "code",
   "execution_count": 56,
   "metadata": {
    "hide-output": false
   },
   "outputs": [
    {
     "ename": "SyntaxError",
     "evalue": "invalid syntax (<ipython-input-56-6020f8ab418b>, line 12)",
     "output_type": "error",
     "traceback": [
      "\u001b[0;36m  File \u001b[0;32m\"<ipython-input-56-6020f8ab418b>\"\u001b[0;36m, line \u001b[0;32m12\u001b[0m\n\u001b[0;31m    return @@@\u001b[0m\n\u001b[0m           ^\u001b[0m\n\u001b[0;31mSyntaxError\u001b[0m\u001b[0;31m:\u001b[0m invalid syntax\n"
     ]
    }
   ],
   "source": [
    "# Available bundle goods\n",
    "a=bundle_good([2,0,1,3,1,1,0],10.50)\n",
    "b=bundle_good([0,5,0,4,2,2,2],15.36)\n",
    "c=bundle_good([1,0,1,2,0,5,4],12.72)\n",
    "market=[a,b,c]\n",
    "\n",
    "import math\n",
    "\n",
    "# utility function\n",
    "def u(x):\n",
    "    \"\"\"Returns the utility of a bundle\"\"\"\n",
    "    return @@@\n",
    "\n",
    "# optimization routine\n",
    "def optim(budget,util,market):\n",
    "    \"\"\"Returns the optimal combination of goods at the market given budget\"\"\"\n",
    "    nn=@@@ #heuristic for how many points to check\n",
    "    # loop over all combination of three bundles to find max utility\n",
    "    m=-float('inf') #initialize with negative infinity\n",
    "    for i in range(nn):\n",
    "        for j in range(nn):\n",
    "            for k in range(nn):\n",
    "                bnd=@@@\n",
    "                u=util(@@@)\n",
    "                if bnd.price <= budget and m<u:\n",
    "                    m=@@@\n",
    "                    x=@@@\n",
    "    return x #return the optimal combination of goods\n",
    "\n",
    "def report(budget,util,x,market):\n",
    "    \"\"\"Makes nice output\"\"\"\n",
    "    @@@\n",
    "\n",
    "# main program\n",
    "budget=100\n",
    "x=optim(budget,u,market)\n",
    "report(budget,u,x,market)\n",
    "@@@"
   ]
  },
  {
   "cell_type": "code",
   "execution_count": 57,
   "metadata": {
    "hide-output": false
   },
   "outputs": [
    {
     "name": "stdout",
     "output_type": "stream",
     "text": [
      "----------------------------------------\n",
      "Optimal bundle for budget 300.00 is\n",
      "Bundle object [4, 25, 2, 26, 12, 12, 10] with price 97.80\n",
      "Optimal allocation is [2, 5, 0]\n",
      "Optimal utility level is 42.195\n",
      "----------------------------------------\n",
      "Optimal bundle for budget 300.00 is\n",
      "Bundle object [7, 50, 4, 51, 23, 28, 24] with price 197.82\n",
      "Optimal allocation is [3, 10, 1]\n",
      "Optimal utility level is 81.769\n",
      "----------------------------------------\n",
      "Optimal bundle for budget 300.00 is\n",
      "Bundle object [10, 80, 5, 79, 37, 37, 32] with price 298.26\n",
      "Optimal allocation is [5, 16, 0]\n",
      "Optimal utility level is 123.530\n"
     ]
    }
   ],
   "source": [
    "# Available bundle goods\n",
    "a=bundle_good([2,0,1,3,1,1,0],10.50)\n",
    "b=bundle_good([0,5,0,4,2,2,2],15.36)\n",
    "c=bundle_good([1,0,1,2,0,5,4],12.72)\n",
    "market=[a,b,c]\n",
    "\n",
    "import math\n",
    "\n",
    "# utility function\n",
    "def u(x):\n",
    "    \"\"\"Returns the utility of a bundle\"\"\"\n",
    "    return math.log(x[0]+1) + (x[1]**0.4+0.5*x[2]**0.4)**2.5 - 0.5*math.log(x[3]+1) - 0.2*(x[4]*x[5])**0.2 + 2*math.log(x[6]+1)\n",
    "\n",
    "# optimization routine\n",
    "def optim(budget,util,market):\n",
    "    \"\"\"Returns the optimal combination of goods at the market given budget\"\"\"\n",
    "    nn=budget//10+1 #heuristic for how many points to check\n",
    "    # loop over all combination of three bundles to find max utility\n",
    "    m=-float('inf')\n",
    "    for i in range(nn):\n",
    "        for j in range(nn):\n",
    "            for k in range(nn):\n",
    "                bnd=market[0]*i + market[1]*j + market[2]*k\n",
    "                u=util(bnd.quantities)\n",
    "                if bnd.price <= budget and m<u:\n",
    "                    m=u\n",
    "                    x=[i,j,k]\n",
    "    return x\n",
    "\n",
    "def report(budget,util,x,market):\n",
    "    \"\"\"Makes nice output\"\"\"\n",
    "    bundle=market[0]*x[0] + market[1]*x[1] + market[2]*x[2]\n",
    "    maxu=util(bundle.quantities)\n",
    "    print('-'*40)\n",
    "    print('Optimal bundle for budget %1.2f is' % budget)\n",
    "    print(bundle)\n",
    "    print('Optimal allocation is %r' % x)\n",
    "    print('Optimal utility level is %1.3f' % maxu)\n",
    "\n",
    "# main program\n",
    "x=optim(100,u,market)\n",
    "report(budget,u,x,market)\n",
    "\n",
    "x=optim(200,u,market)\n",
    "report(budget,u,x,market)\n",
    "\n",
    "x=optim(300,u,market)\n",
    "report(budget,u,x,market)"
   ]
  },
  {
   "cell_type": "markdown",
   "metadata": {},
   "source": [
    "## Task 5\n",
    "\n",
    "Imagine the newly introduced sales tax raised all prices by 15%.\n",
    "Recompute the optimal choices in previous question.\n",
    "\n",
    "Do the optimal choices change, and how?"
   ]
  },
  {
   "cell_type": "code",
   "execution_count": null,
   "metadata": {
    "hide-output": false
   },
   "outputs": [],
   "source": [
    "# Write your code here"
   ]
  },
  {
   "cell_type": "code",
   "execution_count": 58,
   "metadata": {
    "hide-output": false
   },
   "outputs": [
    {
     "name": "stdout",
     "output_type": "stream",
     "text": [
      "----------------------------------------\n",
      "Optimal bundle for budget 100.00 is\n",
      "Bundle object [2, 20, 2, 20, 8, 18, 16] with price 99.91\n",
      "Optimal allocation is [0, 4, 2]\n",
      "Optimal utility level is 36.189\n",
      "----------------------------------------\n",
      "Optimal bundle for budget 200.00 is\n",
      "Bundle object [5, 45, 3, 44, 20, 25, 22] with price 197.75\n",
      "Optimal allocation is [2, 9, 1]\n",
      "Optimal utility level is 71.991\n",
      "----------------------------------------\n",
      "Optimal bundle for budget 300.00 is\n",
      "Bundle object [7, 70, 4, 67, 31, 36, 32] with price 298.15\n",
      "Optimal allocation is [3, 14, 1]\n",
      "Optimal utility level is 107.407\n"
     ]
    }
   ],
   "source": [
    "# increase sales tax\n",
    "a1=a+a.price*.15\n",
    "b1=b+b.price*.15\n",
    "c1=c+c.price*.15\n",
    "market=[a1,b1,c1]\n",
    "\n",
    "budget=100\n",
    "x=optim(budget,u,market)\n",
    "report(budget,u,x,market)\n",
    "\n",
    "budget=200\n",
    "x=optim(budget,u,market)\n",
    "report(budget,u,x,market)\n",
    "\n",
    "budget=300\n",
    "x=optim(budget,u,market)\n",
    "report(budget,u,x,market)"
   ]
  },
  {
   "cell_type": "markdown",
   "metadata": {},
   "source": [
    "## Task 6\n",
    "\n",
    "Imagine the sale for bundle good c lowers its price by 20%. Recompute\n",
    "the optimal choices in previous question.\n",
    "\n",
    "Do the optimal choices change, and how?"
   ]
  },
  {
   "cell_type": "code",
   "execution_count": null,
   "metadata": {
    "hide-output": false
   },
   "outputs": [],
   "source": [
    "# Write your code here"
   ]
  },
  {
   "cell_type": "code",
   "execution_count": 59,
   "metadata": {
    "hide-output": false
   },
   "outputs": [
    {
     "name": "stdout",
     "output_type": "stream",
     "text": [
      "----------------------------------------\n",
      "Optimal bundle for budget 100.00 is\n",
      "Bundle object [2, 25, 2, 24, 10, 20, 18] with price 97.15\n",
      "Optimal allocation is [0, 5, 2]\n",
      "Optimal utility level is 42.779\n",
      "----------------------------------------\n",
      "Optimal bundle for budget 200.00 is\n",
      "Bundle object [3, 55, 3, 50, 22, 37, 34] with price 199.49\n",
      "Optimal allocation is [0, 11, 3]\n",
      "Optimal utility level is 84.824\n",
      "----------------------------------------\n",
      "Optimal bundle for budget 300.00 is\n",
      "Bundle object [5, 80, 5, 74, 32, 57, 52] with price 296.64\n",
      "Optimal allocation is [0, 16, 5]\n",
      "Optimal utility level is 123.854\n"
     ]
    }
   ],
   "source": [
    "# price reduction\n",
    "c2=c-c.price*.20\n",
    "market=[a,b,c2]\n",
    "\n",
    "budget=100\n",
    "x=optim(budget,u,market)\n",
    "report(budget,u,x,market)\n",
    "\n",
    "budget=200\n",
    "x=optim(budget,u,market)\n",
    "report(budget,u,x,market)\n",
    "\n",
    "budget=300\n",
    "x=optim(budget,u,market)\n",
    "report(budget,u,x,market)"
   ]
  },
  {
   "cell_type": "code",
   "execution_count": null,
   "metadata": {},
   "outputs": [],
   "source": []
  }
 ],
 "metadata": {
  "filename": "assignment2task2.rst",
  "kernelspec": {
   "display_name": "Python 3",
   "language": "python",
   "name": "python3"
  },
  "language_info": {
   "codemirror_mode": {
    "name": "ipython",
    "version": 3
   },
   "file_extension": ".py",
   "mimetype": "text/x-python",
   "name": "python",
   "nbconvert_exporter": "python",
   "pygments_lexer": "ipython3",
   "version": "3.7.3"
  },
  "title": "Weekly assignment 2.2: Bundles goods market"
 },
 "nbformat": 4,
 "nbformat_minor": 2
}
