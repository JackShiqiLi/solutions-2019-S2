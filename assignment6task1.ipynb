{
 "cells": [
  {
   "cell_type": "markdown",
   "metadata": {},
   "source": [
    "# Weekly assignment 6: Constrained Newton method\n",
    "\n",
    "In this exercise you will code up and investigate three solution methods which are\n",
    "extremely useful in computational methods, including the\n",
    "midterm assignment.  The methods are:\n",
    "\n",
    "- bisection method for solving non-linear equations within a closed interval  \n",
    "- Newton-Raphson method for solving non-linear equations on real line  \n",
    "- combining the two, the robust Newton algorithm for quick solving non-linear\n",
    "  equations one open or close intervals  \n",
    "\n",
    "\n",
    "Recall that Newton method is preferred due to its quadratic convergence, but is only\n",
    "locally convergent, meaning that if started far enough from the solution, may not converge.\n",
    "\n",
    "Bisection method is very stable, but requires an interval with alternating signs of\n",
    "the function value at its ends, and is converging much slower.\n",
    "\n",
    "We can combine the advantages of the two methods in a polyalgorithm, which is particularly\n",
    "helpful in complex cases, such as the equations in logs below.\n",
    "\n",
    "In addition you will learn about a very useful technique called *callback function*, that\n",
    "allows to use the same code for fast production runs and debugging runs depending on whether\n",
    "a diagnostic function is passed to the method as an argument."
   ]
  },
  {
   "cell_type": "markdown",
   "metadata": {},
   "source": [
    "## Task 1. Bisections\n",
    "\n",
    "Implement the following algorithm:\n",
    "\n",
    "- Main inputs: function object/handle, lower and upper bound  \n",
    "- Additional inputs: maximum number of iterations, convergence tolerance, callback function (None by default)  \n",
    "\n",
    "\n",
    "1. Check that the signs of the function evaluated at the lower and upper bounds are opposite,\n",
    "  otherwise raise ValueError with appropriate message.  \n",
    "1. Initialize iteration counter at 0, set current interval bounds to the initial lower and upper bounds,\n",
    "  and loop through steps 3-7 for at most maxiter iterations:  \n",
    "1. Find midpoint of the current interval  \n",
    "1. If callback function handle is passed, call this function with parameters as described in the starter code  \n",
    "1. Compute the sign of the function evaluated at the midpoint  \n",
    "1. Move the bound of the current interval with the same sign to the midpoint and update the current interval  \n",
    "1. Check for convergence: if the length of the current interval is below the tolerance, exit the loop  \n",
    "1. Use for-else construct to check if the maximum number of iterations has been achieved, in which case raise\n",
    "  the RuntimeError with an appropriate message.  \n",
    "1. Return the midpoint of the current interval as a solution  \n",
    "\n",
    "\n",
    "Hint: see [https://docs.python.org/3/tutorial/errors.html](https://docs.python.org/3/tutorial/errors.html) for how to raise errors."
   ]
  },
  {
   "cell_type": "code",
   "execution_count": null,
   "metadata": {
    "hide-output": false
   },
   "outputs": [],
   "source": [
    "import numpy as np\n",
    "def bisection(fun, lower, upper, tol=1e-6, maxiter=100, callback=None):\n",
    "    '''Bisection method to solve fun(x)=0,\n",
    "       assuming root is between lower and upper.\n",
    "       Callback function arguments (iter,x,lower,upper) where bounds refer to current interval\n",
    "    '''\n",
    "    # write your code here"
   ]
  },
  {
   "cell_type": "code",
   "execution_count": null,
   "metadata": {
    "hide-output": false
   },
   "outputs": [],
   "source": [
    "import numpy as np\n",
    "def bisection(fun, lower, upper, tol=1e-6, maxiter=100, callback=None):\n",
    "    '''Bisection method to solve fun(x)=0,\n",
    "       assuming root is between lower and upper.\n",
    "       Callback function arguments (iter,x,lower,upper) where bounds refer to current interval\n",
    "    '''\n",
    "    if fun(lower)*fun(upper)>0:\n",
    "        raise(ValueError('Bad initial lower and upper limits'))\n",
    "    for iter in range(maxiter):\n",
    "        x = (lower+upper)/2\n",
    "        if callback:\n",
    "            callback(iter,x,lower,upper)\n",
    "        if fun(lower)*fun(x)>0:\n",
    "            lower = x\n",
    "        else:\n",
    "            upper = x\n",
    "        if np.abs(upper-lower)<tol:\n",
    "            return (lower+upper)/2\n",
    "    else:\n",
    "        raise(RuntimeError('Failed to converge, increase maxiter'))"
   ]
  },
  {
   "cell_type": "markdown",
   "metadata": {},
   "source": [
    "Use the following code to test out how the method iterates and updates the brackets."
   ]
  },
  {
   "cell_type": "code",
   "execution_count": null,
   "metadata": {
    "hide-output": false
   },
   "outputs": [],
   "source": [
    "def callback_function(iter,x,lower,upper):\n",
    "    if iter==0:\n",
    "        print('%4s [%16s %16s] %6s'%('iter','lower','upper','diff'))\n",
    "        print('-'*50)\n",
    "    print('%4d [%16.12f %16.12f] %6.2e'%(iter,lower,upper,np.abs(lower-upper)))\n",
    "\n",
    "fun = lambda x: -4*x**3+5*x+1\n",
    "a,b = -3,-.5\n",
    "root = bisection(fun,lower=a,upper=b,tol=1e-8,callback=callback_function)\n",
    "print('Solution is ',root)"
   ]
  },
  {
   "cell_type": "markdown",
   "metadata": {},
   "source": [
    "Make sure your implementation passes all the tests below."
   ]
  },
  {
   "cell_type": "code",
   "execution_count": null,
   "metadata": {
    "hide-output": false
   },
   "outputs": [],
   "source": [
    "import unittest\n",
    "\n",
    "class testsBisection(unittest.TestCase):\n",
    "    \"\"\"Tests for the bisection function\"\"\"\n",
    "\n",
    "    def test1(self):\n",
    "        '''solving first equation'''\n",
    "        fun = lambda x: -4*x**3+5*x+1\n",
    "        a,b = -3,-.5\n",
    "        root = bisection(fun,lower=a,upper=b)\n",
    "        self.assertTrue( np.abs(root+1) < 1e-5 )\n",
    "\n",
    "    def test2(self):\n",
    "        '''checking initial brackets'''\n",
    "        fun = lambda x: -4*x**3+5*x+1\n",
    "        a,b = -3,-1.5\n",
    "        self.assertRaises(ValueError,bisection,fun,lower=a,upper=b)\n",
    "\n",
    "    def test3(self):\n",
    "        '''checking maxiter'''\n",
    "        fun = lambda x: -4*x**3+5*x+1\n",
    "        a,b = -3,-.5\n",
    "        self.assertRaises(RuntimeError,bisection,fun,lower=a,upper=b,maxiter=5)\n",
    "\n",
    "    def test4(self):\n",
    "        '''checking tolerance'''\n",
    "        fun = lambda x: -4*x**3+5*x+1\n",
    "        a,b = -3,-.5\n",
    "        root = bisection(fun,lower=a,upper=b,tol=1e-15)\n",
    "        self.assertTrue( np.abs(root+1) < 1e-15 )\n",
    "\n",
    "# this is the way to run tests\n",
    "if __name__ == '__main__':\n",
    "    # tweaking for Jupyter Notebook\n",
    "    unittest.main(argv=['first-arg-is-ignored'], exit=False)\n",
    "    # from command line\n",
    "    # unittest.main()"
   ]
  },
  {
   "cell_type": "markdown",
   "metadata": {},
   "source": [
    "## Task 2. Newton-Raphson method\n",
    "\n",
    "Implement the following algorithm to solve equation $ g(x)=0 $ where $ g(x) $ is a differentiable function:\n",
    "\n",
    "- Main inputs: function f(x), its derivative g(x), starting value  \n",
    "- Additional inputs: maximum number of iterations, convergence tolerance, callback function (None by default)  \n",
    "\n",
    "\n",
    "1. Initialize iteration counter at 0, set current x to the initial value,\n",
    "  and loop through steps 3-6 for at most maxiter iterations:  \n",
    "1. Compute the next guess x by Newton step $ x_{i+1} = x_i - \\frac{f(x_i)}{g(x_i)} $  \n",
    "1. Compute the change between current x and the new guess  \n",
    "1. If callback function handle is passed, call this function with parameters as described in the starter code  \n",
    "1. Check for convergence: if the distance between current x and new guess x is below the tolerance, exit the loop  \n",
    "1. Replace the current x with the new computed guess  \n",
    "1. Use for-else construct to check if the maximum number of iterations has been achieved, in which case raise\n",
    "  the RuntimeError with an appropriate message.  \n",
    "1. Return the last computed guess x as the solution  "
   ]
  },
  {
   "cell_type": "markdown",
   "metadata": {},
   "source": [
    "## Derivation for Newton method using Taylor series expansion\n",
    "\n",
    "$$\n",
    "g(x) = \\sum_{k=0}^{\\infty} \\frac{g^{(k)}(x_0)}{k!} (x-x_0)^k\n",
    "$$\n",
    "\n",
    "Take first two terms, use $ x $ that satisfies $ g(x)=0 $ as new approximation to the solution conditional\n",
    "on the current approximation $ x_0=x_i $:\n",
    "\n",
    "$$\n",
    "0 = g(x) = g(x_i) + g'(x_i) (x_{i+1}-x_i) \\quad \\Rightarrow \\quad x_{i+1} = x_i - \\frac{g(x_i)}{g'(x_i)}\n",
    "$$"
   ]
  },
  {
   "cell_type": "code",
   "execution_count": null,
   "metadata": {
    "hide-output": false
   },
   "outputs": [],
   "source": [
    "def newton(fun, grad, x0, tol=1e-12, maxiter=100, callback=None):\n",
    "    '''Newton method to solve fun(x)=0\n",
    "       Callback function arguments (iter,x,x1,err) where x1 is new guess, err = abs(x-x1)\n",
    "    '''\n",
    "    # write your code here"
   ]
  },
  {
   "cell_type": "code",
   "execution_count": null,
   "metadata": {
    "hide-output": false
   },
   "outputs": [],
   "source": [
    "def newton(fun, grad, x0, tol=1e-12, maxiter=100, callback=None):\n",
    "    '''Newton method to solve fun(x)=0\n",
    "       Callback function arguments (iter,x,x1,err)\n",
    "    '''\n",
    "    x=x0\n",
    "    for iter in range(maxiter):\n",
    "        x1 = x - fun(x)/grad(x)\n",
    "        err = np.abs(x1-x)\n",
    "        if callback:\n",
    "            callback(iter,x,x1,err)\n",
    "        if err < tol:\n",
    "            return x1\n",
    "        x = x1\n",
    "    else:\n",
    "        raise(RuntimeError('Failed to converge, increase maxiter'))"
   ]
  },
  {
   "cell_type": "markdown",
   "metadata": {},
   "source": [
    "Use the following code to test out how the method iterates and updates the brackets."
   ]
  },
  {
   "cell_type": "code",
   "execution_count": null,
   "metadata": {
    "hide-output": false
   },
   "outputs": [],
   "source": [
    "def callback_function_two(iter,x,x1,err):\n",
    "    if iter==0:\n",
    "        print('%4s %16s %16s %6s'%('iter','x','x1','err'))\n",
    "        print('-'*50)\n",
    "    print('%4d %16.12f %16.12f %6.2e'%(iter,x,x1,np.abs(x-x1)))\n",
    "\n",
    "fun = lambda x: -4*x**3+5*x+1\n",
    "grad = lambda x: -12*x**2+5\n",
    "x0 = -0.5\n",
    "root = newton(fun,grad,x0,tol=1e-8,callback=callback_function_two)\n",
    "print('Solution is ',root)"
   ]
  },
  {
   "cell_type": "markdown",
   "metadata": {},
   "source": [
    "Make sure your implementation passes all the tests below."
   ]
  },
  {
   "cell_type": "code",
   "execution_count": null,
   "metadata": {
    "hide-output": false
   },
   "outputs": [],
   "source": [
    "import unittest\n",
    "\n",
    "class testsNewton(unittest.TestCase):\n",
    "    \"\"\"Tests for the newton function\"\"\"\n",
    "\n",
    "    def test1(self):\n",
    "        '''solving first equation'''\n",
    "        fun = lambda x: -4*x**3+5*x+1\n",
    "        grad = lambda x: -12*x**2+5\n",
    "        root = newton(fun,grad,-1.75)\n",
    "        self.assertTrue( np.abs(root+1) < 1e-12 )\n",
    "\n",
    "    def test2(self):\n",
    "        '''checking maxiter'''\n",
    "        fun = lambda x: -4*x**3+5*x+1\n",
    "        grad = lambda x: -12*x**2+5\n",
    "        self.assertRaises(RuntimeError,newton,fun,grad,-1.75,maxiter=2)\n",
    "\n",
    "    def test3(self):\n",
    "        '''checking tolerance'''\n",
    "        fun = lambda x: -4*x**3+5*x+1\n",
    "        grad = lambda x: -12*x**2+5\n",
    "        root = newton(fun,grad,-1.75,tol=1e-15)\n",
    "        self.assertTrue( np.abs(root+1) < 1e-15 )\n",
    "\n",
    "# this is the way to run tests\n",
    "if __name__ == '__main__':\n",
    "    # tweaking for Jupyter Notebook\n",
    "    unittest.main(argv=['first-arg-is-ignored'], exit=False)\n",
    "    # from command line\n",
    "    # unittest.main()"
   ]
  },
  {
   "cell_type": "markdown",
   "metadata": {},
   "source": [
    "Investigate how different starting values affect the solution."
   ]
  },
  {
   "cell_type": "code",
   "execution_count": null,
   "metadata": {
    "hide-output": false
   },
   "outputs": [],
   "source": [
    "fun = lambda x: -4*x**3+5*x+1\n",
    "grad = lambda x: -12*x**2+5\n",
    "x0 = [-.5,.5,1.5] # loop through these starting values\n",
    "\n",
    "# write your code here"
   ]
  },
  {
   "cell_type": "code",
   "execution_count": null,
   "metadata": {
    "hide-output": false
   },
   "outputs": [],
   "source": [
    "fun = lambda x: -4*x**3+5*x+1\n",
    "grad = lambda x: -12*x**2+5\n",
    "x0 = [-.5,.5,1.5] # loop through these starting values\n",
    "for x00 in x0:\n",
    "    root = newton(fun,grad,x00,tol=1e-8)\n",
    "    print('Starting value is',x00,'then solution is',root)"
   ]
  },
  {
   "cell_type": "markdown",
   "metadata": {},
   "source": [
    "Compare the convergence rate between Newton-Raphson and bisection methods.  Make sure to use the same solver settings."
   ]
  },
  {
   "cell_type": "code",
   "execution_count": null,
   "metadata": {
    "hide-output": false
   },
   "outputs": [],
   "source": [
    "# write your code here"
   ]
  },
  {
   "cell_type": "code",
   "execution_count": null,
   "metadata": {
    "hide-output": false
   },
   "outputs": [],
   "source": [
    "fun = lambda x: -4*x**3+5*x+1\n",
    "grad = lambda x: -12*x**2+5\n",
    "a,b = -3,-.5\n",
    "x0 = (a+b)/2\n",
    "print('Bisections')\n",
    "root = bisection(fun,lower=a,upper=b,tol=1e-8,callback=callback_function)\n",
    "print('Solution is ',root)\n",
    "print('Newton-Raphson')\n",
    "root = newton(fun,grad,x0,tol=1e-8,callback=callback_function_two)\n",
    "print('Solution is ',root)"
   ]
  },
  {
   "cell_type": "markdown",
   "metadata": {},
   "source": [
    "## Task 3. Hard equation to solve\n",
    "\n",
    "Consider the following equation with parameters $ (p,q), p<0 $\n",
    "\n",
    "$$\n",
    "\\log(x) + p \\log(1-x) + q = 0, p<0\n",
    "$$\n",
    "\n",
    "Consider $ (p,q)=(-1,1) $, $ (p,q)=(-2,5) $, $ (p,q)=(-5,25) $.  For each parameter value:\n",
    "\n",
    "1. Make a plot of the equation to show the solution  \n",
    "1. Solve the equation using both bisections and Newton method to tol=1e-12  \n",
    "\n",
    "\n",
    "Based on the above runs, investigate the performance of both algorithms in terms of convergence rate and robustness."
   ]
  },
  {
   "cell_type": "code",
   "execution_count": null,
   "metadata": {
    "hide-output": false
   },
   "outputs": [],
   "source": [
    "# write your code here"
   ]
  },
  {
   "cell_type": "code",
   "execution_count": null,
   "metadata": {
    "hide-output": false
   },
   "outputs": [],
   "source": [
    "import matplotlib.pyplot as plt\n",
    "%matplotlib inline\n",
    "\n",
    "for p,q in ((-1,1),(-2,5),(-5,25)):\n",
    "\n",
    "    fun = lambda x: np.log(x) + p*np.log(1-x) + q\n",
    "\n",
    "    x = np.linspace(0,1,1000)\n",
    "    y = [fun(x) for x in x]\n",
    "    plt.plot(x,y)\n",
    "    plt.plot([0,1],[0,0])\n",
    "    plt.show()"
   ]
  },
  {
   "cell_type": "code",
   "execution_count": null,
   "metadata": {
    "hide-output": false
   },
   "outputs": [],
   "source": [
    "for p,q in ((-1,1),(-2,5),(-5,25)):\n",
    "\n",
    "    fun = lambda x: np.log(x) + p*np.log(1-x) + q\n",
    "    grad = lambda x: 1/x - p/(1-x)\n",
    "    a,b = 0,1\n",
    "    x0 = (a+b)/2\n",
    "\n",
    "    try:\n",
    "        print('Bisections')\n",
    "        root = bisection(fun,lower=a,upper=b,tol=1e-12,callback=callback_function)\n",
    "        print('Solution is ',root)\n",
    "    except:\n",
    "        pass\n",
    "\n",
    "    try:\n",
    "        print('Newton-Raphson')\n",
    "        root = newton(fun,grad,x0,tol=1e-12,callback=callback_function_two)\n",
    "        print('Solution is ',root)\n",
    "    except:\n",
    "        pass"
   ]
  },
  {
   "cell_type": "markdown",
   "metadata": {},
   "source": [
    "## Task 4. Newton methods with constraints (robust Newton)\n",
    "\n",
    "Depending on starting value, Newton may initially shoot very far away.\n",
    "When simple bounds can be set, they are useful to moderate the Newton step (at\n",
    "the cost of some additional computation at each iteration).\n",
    "Similarly to the bisection method, we assume that the signs of the function are\n",
    "different at the bounds.\n",
    "\n",
    "Implement the following algorithm to solve equation $ g(x)=0 $ where $ g(x) $ is a differentiable function:\n",
    "\n",
    "- Main inputs: function f(x), its derivative g(x), lower and upper bound  \n",
    "- Additional inputs: maximum number of iterations, convergence tolerance, callback function (None by default)  \n",
    "\n",
    "\n",
    "1. Check that the signs of the function evaluated at the lower and upper bounds are opposite,\n",
    "  otherwise raise ValueError with appropriate message.  \n",
    "1. Initialize iteration counter at 0, set current interval bounds to the initial lower and upper bounds,\n",
    "  set current x to the midpoint between the lower and upper bounds,\n",
    "  and loop through steps 3-7 for at most maxiter iterations:  \n",
    "1. Compute the next guess x by Newton step $ x_{i+1} = x_i - \\frac{f(x_i)}{g(x_i)} $  \n",
    "1. \n",
    "  <dl style='margin: 20px 0;'>\n",
    "  <dt>If Newton step falls outside of the bounds, perform a bisection step:</dt>\n",
    "  <dd>\n",
    "  - Compute the sign of the function evaluated at the midpoint  \n",
    "  - Move the bound of the current interval with the same sign to the midpoint and update the current interval  \n",
    "  - Compute the stopping criterion as the length of the updated interval  \n",
    "  - Set the next value x1 as the midpoint of the updated bound interval  \n",
    "  - If callback function handle is passed, call this function with parameters as described in the starter code  \n",
    "  </dd>\n",
    "  \n",
    "  </dl>\n",
    "  \n",
    "1. \n",
    "  <dl style='margin: 20px 0;'>\n",
    "  <dt>If Newton step falls inside of the bounds, complete the Newton step:</dt>\n",
    "  <dd>\n",
    "  - Set the next value x1 equal to the next Newton guess  \n",
    "  - Compute the stopping criterion as the absolute difference between x1 and current x  \n",
    "  - If callback function handle is passed, call this function with parameters as described in the starter code  \n",
    "  </dd>\n",
    "  \n",
    "  </dl>\n",
    "  \n",
    "1. Check for convergence: if the criterion is below the tolerance, exit the loop  \n",
    "1. Replace the current x with the new value x1  \n",
    "1. Use for-else construct to check if the maximum number of iterations has been achieved, in which case raise\n",
    "  the RuntimeError with an appropriate message.  \n",
    "1. Return the last computed x1 as the solution  "
   ]
  },
  {
   "cell_type": "code",
   "execution_count": null,
   "metadata": {
    "hide-output": false
   },
   "outputs": [],
   "source": [
    "def bnewton(fun, grad, lower, upper=1, tol=1e-6, maxiter=100, callback=None):\n",
    "    '''Polyalgorithm that combines bisections and Newton-Raphson\n",
    "       to solve fun(x)=0 within given lower and upper bounds.\n",
    "       Callback function arguments (iter,itertype,x,x1,stopping_criterion) where itertype is \"bisection\" or \"newton\"\n",
    "    '''\n",
    "    # write your code here"
   ]
  },
  {
   "cell_type": "code",
   "execution_count": null,
   "metadata": {
    "hide-output": false
   },
   "outputs": [],
   "source": [
    "def bnewton(fun, grad, lower, upper, tol=1e-6, maxiter=100, callback=None):\n",
    "    '''Polyalgorithm that combines bisections and Newton-Raphson\n",
    "       to solve fun(x)=0 within given lower and upper bounds.\n",
    "       Callback function arguments (iter,itertype,x,x1,stopping_criterion) where itertype is \"bisection\" or \"newton\"\n",
    "    '''\n",
    "    sign_lower = np.sign(fun(lower))\n",
    "    sign_upper = np.sign(fun(upper))\n",
    "    if sign_lower*sign_upper>0:\n",
    "        raise(ValueError('Bad initial lower and upper limits'))\n",
    "    x = (lower+upper)/2\n",
    "    for iter in range(maxiter):\n",
    "        newt = x - fun(x)/grad(x) # Newton step\n",
    "        if newt<lower or newt>upper:\n",
    "            # bisection step\n",
    "            if np.sign(fun(x))*sign_lower > 0:\n",
    "                lower = x  # and the lower sign remains\n",
    "            else:\n",
    "                upper = x  # and the upper sign remains\n",
    "            x1 = (lower+upper)/2\n",
    "            stopping = np.abs(upper-lower)\n",
    "            if callback:\n",
    "                callback(iter,'bisect',x,x1,stopping)\n",
    "        else:\n",
    "            x1 = newt\n",
    "            stopping = np.abs(x1-x)\n",
    "            if callback:\n",
    "                callback(iter,'newton',x,x1,stopping)\n",
    "        x = x1\n",
    "        if stopping<tol:\n",
    "            return x1\n",
    "    else:\n",
    "        raise(RuntimeError('Failed to converge, increase maxiter'))"
   ]
  },
  {
   "cell_type": "markdown",
   "metadata": {},
   "source": [
    "Make sure your implementation passes all the tests below."
   ]
  },
  {
   "cell_type": "code",
   "execution_count": null,
   "metadata": {
    "hide-output": false
   },
   "outputs": [],
   "source": [
    "import unittest\n",
    "\n",
    "class testsBnewton(unittest.TestCase):\n",
    "    \"\"\"Tests for the newton function\"\"\"\n",
    "\n",
    "    def test1(self):\n",
    "        '''solving first equation'''\n",
    "        fun = lambda x: -4*x**3+5*x+1\n",
    "        grad = lambda x: -12*x**2+5\n",
    "        a,b = -3,-.5\n",
    "        root = bnewton(fun,grad,a,b)\n",
    "        self.assertTrue( np.abs(root+1) < 1e-12 )\n",
    "\n",
    "\n",
    "    def test2(self):\n",
    "        '''checking initial brackets'''\n",
    "        fun = lambda x: -4*x**3+5*x+1\n",
    "        grad = lambda x: -12*x**2+5\n",
    "        a,b = -3,-1.5\n",
    "        self.assertRaises(ValueError,bnewton,fun,grad,a,b)\n",
    "\n",
    "    def test3(self):\n",
    "        '''checking maxiter'''\n",
    "        fun = lambda x: -4*x**3+5*x+1\n",
    "        grad = lambda x: -12*x**2+5\n",
    "        a,b = -3,-.5\n",
    "        self.assertRaises(RuntimeError,bnewton,fun,grad,a,b,maxiter=5)\n",
    "\n",
    "    def test4(self):\n",
    "        '''checking tolerance'''\n",
    "        fun = lambda x: -4*x**3+5*x+1\n",
    "        grad = lambda x: -12*x**2+5\n",
    "        a,b = -3,-.5\n",
    "        root = bnewton(fun,grad,a,b,tol=1e-15)\n",
    "        self.assertTrue( np.abs(root+1) < 1e-15 )\n",
    "\n",
    "\n",
    "# this is the way to run tests\n",
    "if __name__ == '__main__':\n",
    "    # tweaking for Jupyter Notebook\n",
    "    unittest.main(argv=['first-arg-is-ignored'], exit=False)\n",
    "    # from command line\n",
    "    # unittest.main()"
   ]
  },
  {
   "cell_type": "markdown",
   "metadata": {},
   "source": [
    "Finally, solve the hard equation from Task 3 using the robust Newton, and compare the convergence rate to the bisection algorithm."
   ]
  },
  {
   "cell_type": "code",
   "execution_count": null,
   "metadata": {
    "hide-output": false
   },
   "outputs": [],
   "source": [
    "# write your code here"
   ]
  },
  {
   "cell_type": "code",
   "execution_count": null,
   "metadata": {
    "hide-output": false
   },
   "outputs": [],
   "source": [
    "def callback_function_three(iter,type,x,x1,err):\n",
    "    if iter==0:\n",
    "        print('%4s %8s %16s %16s %6s'%('iter','type','x','x1','err'))\n",
    "        print('-'*57)\n",
    "    print('%4d %8s %16.12f %16.12f %6.2e'%(iter,type,x,x1,np.abs(x-x1)))\n",
    "\n",
    "\n",
    "for p,q in ((-1,1),(-2,5),(-5,25)):\n",
    "\n",
    "    fun = lambda x: np.log(x) + p*np.log(1-x) + q\n",
    "    grad = lambda x: 1/x - p/(1-x)\n",
    "    a,b = 0,1\n",
    "\n",
    "    print('Bisections')\n",
    "    root = bisection(fun,a,b,tol=1e-12,callback=callback_function)\n",
    "    print('Solution is ',root)\n",
    "\n",
    "    print('Robust Newton-Raphson')\n",
    "    root = bnewton(fun,grad,a,b,tol=1e-12,callback=callback_function_three)\n",
    "    print('Solution is ',root)"
   ]
  }
 ],
 "metadata": {
  "filename": "assignment6task1.rst",
  "kernelspec": {
   "display_name": "Python 3",
   "language": "python",
   "name": "python3"
  },
  "language_info": {
   "codemirror_mode": {
    "name": "ipython",
    "version": 3
   },
   "file_extension": ".py",
   "mimetype": "text/x-python",
   "name": "python",
   "nbconvert_exporter": "python",
   "pygments_lexer": "ipython3",
   "version": "3.7.3"
  },
  "title": "Weekly assignment 6: Constrained Newton method"
 },
 "nbformat": 4,
 "nbformat_minor": 2
}
