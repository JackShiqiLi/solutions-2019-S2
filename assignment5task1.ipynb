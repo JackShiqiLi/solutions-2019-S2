{
 "cells": [
  {
   "cell_type": "markdown",
   "metadata": {},
   "source": [
    "# Weekly assignment 5.1: Simple NumPy Exercises\n",
    "\n",
    "In this task you are practicing using NumPy in several applications."
   ]
  },
  {
   "cell_type": "markdown",
   "metadata": {},
   "source": [
    "## Task 1. Power of a matrix\n",
    "\n",
    "Write a function that would take in a matrix and a non-negative integer,\n",
    "check for that matrix is square, and return the power of the matrix computed through\n",
    "successive multiplication."
   ]
  },
  {
   "cell_type": "code",
   "execution_count": null,
   "metadata": {
    "hide-output": false
   },
   "outputs": [],
   "source": [
    "import numpy as np\n",
    "\n",
    "def matrix_power(mtrx,n=1):\n",
    "    # Write your code here\n",
    "    pass\n",
    "\n",
    "A = np.array([[1,2,0],[0,2,3],[1,1,5]])\n",
    "print(matrix_power(A))"
   ]
  },
  {
   "cell_type": "code",
   "execution_count": 9,
   "metadata": {
    "hide-output": false
   },
   "outputs": [
    {
     "name": "stdout",
     "output_type": "stream",
     "text": [
      "[[1 2 0]\n",
      " [0 2 3]\n",
      " [1 1 5]]\n"
     ]
    }
   ],
   "source": [
    "import numpy as np\n",
    "\n",
    "def matrix_power(mtrx,n=1):\n",
    "    '''Power of a matrix computed through iterative multiplication'''\n",
    "    if type(mtrx) is list:\n",
    "        mtrx=np.array(mtrx)\n",
    "    elif type(mtrx) is np.ndarray:\n",
    "        pass\n",
    "    else:\n",
    "        raise(TypeError('Wrong type for matrix'))\n",
    "    if type(n) is not int:\n",
    "        raise(TypeError('Power should be int'))\n",
    "    if n<0:\n",
    "        raise(ValueError('Power should be non-negative'))\n",
    "\n",
    "    ans=np.copy(mtrx) # you can verify by looking at id(ans)\n",
    "                      # that Python does copy mtrx on first multiplication,\n",
    "                      # but using np.copy is just more readable\n",
    "    for i in range(n-1):\n",
    "        ans = ans @ mtrx\n",
    "    return ans\n",
    "\n",
    "A = np.array([[1,2,0],[0,2,3],[1,1,5]])\n",
    "print(matrix_power(A))"
   ]
  },
  {
   "cell_type": "markdown",
   "metadata": {},
   "source": [
    "Here are the tests to pass for your code (which are referred to as *unit tests*)"
   ]
  },
  {
   "cell_type": "code",
   "execution_count": null,
   "metadata": {
    "hide-output": false
   },
   "outputs": [],
   "source": [
    "# Test the code above\n",
    "\n",
    "A = np.array([[1,2,0],[0,2,3],[1,1,5]])\n",
    "B = [[355,614,1806],[903,1565,4533],[1210,2113,6098]]\n",
    "eq=np.equal(matrix_power(A,5),B)\n",
    "if eq.all():\n",
    "    print('Test 1 passed')\n",
    "else:\n",
    "    print('Test 1 FAIL')\n",
    "\n",
    "\n",
    "A = [[1,2,0],[0,2,3],[1,1,5]]\n",
    "B = [[355,614,1806],[903,1565,4533],[1210,2113,6098]]\n",
    "eq=np.equal(matrix_power(A,5),B)\n",
    "if eq.all():\n",
    "    print('Test 2 passed')\n",
    "else:\n",
    "    print('Test 2 FAIL')\n",
    "\n",
    "\n",
    "try:\n",
    "    matrix_power([1],4.5)\n",
    "except TypeError:\n",
    "    print('Test 3 passed')\n",
    "except:\n",
    "    print('Test 3 FAIL')\n",
    "else:\n",
    "    print('Test 3 FAIL')\n",
    "\n",
    "try:\n",
    "    matrix_power([1],-5)\n",
    "except ValueError:\n",
    "    print('Test 4 passed')\n",
    "except:\n",
    "    print('Test 4 FAIL')\n",
    "else:\n",
    "    print('Test 4 FAIL')"
   ]
  },
  {
   "cell_type": "code",
   "execution_count": 10,
   "metadata": {
    "hide-output": false
   },
   "outputs": [
    {
     "name": "stderr",
     "output_type": "stream",
     "text": [
      "...\n",
      "----------------------------------------------------------------------\n",
      "Ran 3 tests in 0.003s\n",
      "\n",
      "OK\n"
     ]
    }
   ],
   "source": [
    "# Python has a standard way to write test that can be automated and run in bulk. Here is an example that implements all the same tests as above\n",
    "\n",
    "import unittest\n",
    "\n",
    "class TestDemo(unittest.TestCase):\n",
    "    \"\"\"Example of how to use unittest in Jupyter.\"\"\"\n",
    "\n",
    "    def test1(self):\n",
    "        '''general'''\n",
    "        A = np.array([[1,2,0],[0,2,3],[1,1,5]])\n",
    "        B = [[355,614,1806],[903,1565,4533],[1210,2113,6098]]\n",
    "        eq=np.equal(matrix_power(A,5),B)\n",
    "        self.assertTrue(eq.all)\n",
    "\n",
    "    def test2(self):\n",
    "        '''matrix as list'''\n",
    "        A = [[1,2,0],[0,2,3],[1,1,5]]\n",
    "        B = [[355,614,1806],[903,1565,4533],[1210,2113,6098]]\n",
    "        eq=np.equal(matrix_power(A,5),B)\n",
    "        self.assertTrue(eq.all)\n",
    "\n",
    "    def test3(self):\n",
    "        '''power'''\n",
    "        self.assertRaises(TypeError,matrix_power,[1],4.5)\n",
    "        self.assertRaises(ValueError,matrix_power,[1],-3)\n",
    "\n",
    "# this is the way to run tests\n",
    "if __name__ == '__main__':\n",
    "    # tweaking for Jupyter Notebook\n",
    "    unittest.main(argv=['first-arg-is-ignored'], exit=False)\n",
    "    # from command line\n",
    "    # unittest.main()"
   ]
  },
  {
   "cell_type": "markdown",
   "metadata": {},
   "source": [
    "## Task 2. Linear regression model\n",
    "\n",
    "Recall that the linear regression model with data in columns of\n",
    "$ (X,y) $ where $ X $ are independent variables and $ y $ is\n",
    "the dependent variable, parameter vector $ \\beta $ and errors\n",
    "$ \\varepsilon \\sim N(0, \\sigma) $\n",
    "\n",
    "$$\n",
    "y = X \\beta + \\varepsilon \\quad \\quad \\varepsilon \\sim N(0, 1)\n",
    "$$\n",
    "\n",
    "is estimated by ordinary least sqeares (OLS) method $ \\beta $ as\n",
    "\n",
    "$$\n",
    "\\hat{\\beta} = (X'X)^{-1} X' y.\n",
    "$$\n",
    "\n",
    "Given\n",
    "\n",
    "$$\n",
    "y =\n",
    "\\begin{bmatrix}\n",
    "3 \\\\\n",
    "7 \\\\\n",
    "10 \\\\\n",
    "5 \\\\\n",
    "4 \\\\\n",
    "7 \\\\\n",
    "\\end{bmatrix},\n",
    "\\quad\n",
    "X =\n",
    "\\begin{bmatrix}\n",
    "5 & 3 \\\\\n",
    "2 & 3 \\\\\n",
    "3 & 1 \\\\\n",
    "2 & 8 \\\\\n",
    "2 & 8 \\\\\n",
    "4.5 & 2.5 \\\\\n",
    "2.5 & 1.5 \\\\\n",
    "\\end{bmatrix}\n",
    "$$\n",
    "\n",
    "Compute $ \\hat{\\beta} $."
   ]
  },
  {
   "cell_type": "code",
   "execution_count": 11,
   "metadata": {
    "hide-output": false
   },
   "outputs": [
    {
     "name": "stdout",
     "output_type": "stream",
     "text": [
      "[0, 0]\n",
      "Test FAIL\n"
     ]
    }
   ],
   "source": [
    "import numpy as np\n",
    "\n",
    "def ols(X,y):\n",
    "    '''Return the OLS estimate given data X,y'''\n",
    "    # Write your code here\n",
    "    return [0,0]\n",
    "\n",
    "\n",
    "y = np.array([3, 7, 10, 5, 4, 7])\n",
    "X = np.array([[5, 3],\n",
    "              [2, 3],\n",
    "              [3, 1],\n",
    "              [2, 8],\n",
    "              [4.5, 2.5],\n",
    "              [2.5, 1.5]])\n",
    "beta=ols(X,y)\n",
    "print(beta)\n",
    "\n",
    "#Test\n",
    "eq=np.abs(beta - np.array([1.24408295,0.35055123]))<1e-8\n",
    "if eq.all():\n",
    "    print('Test passed')\n",
    "else:\n",
    "    print('Test FAIL')"
   ]
  },
  {
   "cell_type": "code",
   "execution_count": 12,
   "metadata": {
    "hide-output": false
   },
   "outputs": [
    {
     "name": "stdout",
     "output_type": "stream",
     "text": [
      "[1.24408295 0.35055123]\n",
      "Test passed\n"
     ]
    }
   ],
   "source": [
    "import numpy as np\n",
    "\n",
    "def ols(X,y):\n",
    "    '''Return the OLS estimate given data X,y'''\n",
    "    return np.linalg.inv(X.T@X)@X.T@y\n",
    "\n",
    "y = np.array([3, 7, 10, 5, 4, 7])\n",
    "X = np.array([[5, 3],\n",
    "              [2, 3],\n",
    "              [3, 1],\n",
    "              [2, 8],\n",
    "              [4.5, 2.5],\n",
    "              [2.5, 1.5]])\n",
    "beta=ols(X,y)\n",
    "print(beta)\n",
    "\n",
    "#Test\n",
    "eq=np.abs(beta - np.array([1.24408295,0.35055123]))<1e-8\n",
    "if eq.all():\n",
    "    print('Test passed')\n",
    "else:\n",
    "    print('Test FAIL')"
   ]
  },
  {
   "cell_type": "markdown",
   "metadata": {},
   "source": [
    "## Task 3. Autoregressive model in matrix form\n",
    "\n",
    "Consider the AR(1) model\n",
    "\n",
    "$$\n",
    "y_t = a y_{t-1} + \\varepsilon, \\; \\varepsilon \\sim N(0, 1).\n",
    "$$\n",
    "\n",
    "We can represent it in the form\n",
    "\n",
    "$$\n",
    "Ay = \\varepsilon \\quad \\quad \\varepsilon \\sim N(0, 1)\n",
    "$$\n",
    "\n",
    "where $ A $ is\n",
    "\n",
    "$$\n",
    "A = \\begin{bmatrix} 1  & 0 & \\cdots & 0 & 0  \\cr\n",
    "                      -a  & 1 & \\cdots & 0 & 0 \\cr\n",
    "                      \\vdots & \\vdots & \\cdots & \\vdots & \\vdots \\cr\n",
    "                      \\vdots & \\vdots & \\cdots & 1 & 0 \\cr\n",
    "                      0 & 0 & \\cdots & -a & 1 \\end{bmatrix}\n",
    "$$\n",
    "\n",
    "and $ y $ and $ \\varepsilon $ are $ (T x 1) $ vectors\n",
    "\n",
    "Generate an AR(1) series with $ T=500 $ and $ \\alpha = 0.9 $\n",
    "using matrix algebra, and make a plot of $ y_t $.\n",
    "\n",
    "Hint: use NumPy.eye() with additional arguments."
   ]
  },
  {
   "cell_type": "code",
   "execution_count": null,
   "metadata": {
    "hide-output": false
   },
   "outputs": [],
   "source": [
    "# replace @@@ by your code\n",
    "import numpy as np\n",
    "\n",
    "T = @@@\n",
    "α = @@@\n",
    "ɛ = np.random.randn(T)\n",
    "A = @@@\n",
    "y = @@@\n",
    "\n",
    "import matplotlib.pyplot as plt\n",
    "@@@"
   ]
  },
  {
   "cell_type": "code",
   "execution_count": 13,
   "metadata": {
    "hide-output": false
   },
   "outputs": [
    {
     "data": {
      "image/png": "[encoded data removed]",
      "text/plain": [
       "<Figure size 432x288 with 1 Axes>"
      ]
     },
     "metadata": {
      "needs_background": "light"
     },
     "output_type": "display_data"
    }
   ],
   "source": [
    "import numpy as np\n",
    "\n",
    "T = 500\n",
    "α = 0.9\n",
    "ɛ = np.random.randn(T)\n",
    "A = np.eye(T) + -α * np.eye(T, k=-1)\n",
    "y = np.linalg.inv(A) @ ɛ #alternative 1\n",
    "y = np.linalg.solve(A,ɛ) #alternative 2\n",
    "\n",
    "import matplotlib.pyplot as plt\n",
    "\n",
    "plt.plot(y)\n",
    "plt.show()"
   ]
  }
 ],
 "metadata": {
  "filename": "assignment5task1.rst",
  "kernelspec": {
   "display_name": "Python 3",
   "language": "python",
   "name": "python3"
  },
  "language_info": {
   "codemirror_mode": {
    "name": "ipython",
    "version": 3
   },
   "file_extension": ".py",
   "mimetype": "text/x-python",
   "name": "python",
   "nbconvert_exporter": "python",
   "pygments_lexer": "ipython3",
   "version": "3.7.3"
  },
  "title": "Weekly assignment 5.1: Simple NumPy Exercises"
 },
 "nbformat": 4,
 "nbformat_minor": 2
}
